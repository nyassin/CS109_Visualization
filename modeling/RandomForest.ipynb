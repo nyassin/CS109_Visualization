{
 "metadata": {
  "name": ""
 },
 "nbformat": 3,
 "nbformat_minor": 0,
 "worksheets": [
  {
   "cells": [
    {
     "cell_type": "markdown",
     "metadata": {},
     "source": [
      "# Random Forest"
     ]
    },
    {
     "cell_type": "markdown",
     "metadata": {},
     "source": [
      "For this project we wanted to make sure we explored a method that we had not used in any of the previous problem sets. After research into learning methods that would be tractable on a large dataset with many features we decided on Random Forest. Groups at Stanford that had looked into predicting flight delays had the most success with this classifier, and so it seemed like a good bet.\n",
      "\n",
      "Pros of Random Forests\n",
      "\n",
      "- Capable of regression and classification\n",
      "- Handles a large number of features\n",
      "- Estimates which variables are important \n",
      "- Implemented in Python!\n",
      "\n",
      "Once we had scraped and matched all the weather and flight data for 2012 we had a significant number of categorical variables. In order to use many of these variables we had to convert them to dummy variables, which  greatly increased our feature list.\n",
      "\n",
      "Random Forests fit our needs well because they can handle a large feature set and help narrow down which features are most important.\n",
      "\n",
      "The sklearn package is a well implemented Random Forest Classifier that is documented and readily accessible."
     ]
    },
    {
     "cell_type": "code",
     "collapsed": false,
     "input": [
      "%matplotlib inline\n",
      "from collections import defaultdict\n",
      "import numpy as np\n",
      "import matplotlib.pyplot as plt\n",
      "import pandas as pd\n",
      "import random\n",
      "import datetime\n",
      "import csv"
     ],
     "language": "python",
     "metadata": {},
     "outputs": [],
     "prompt_number": 8
    },
    {
     "cell_type": "code",
     "collapsed": false,
     "input": [
      "def remove_border(axes=None, top=False, right=False, left=True, bottom=True):\n",
      "    \"\"\"\n",
      "    Minimize chartjunk by stripping out unnecesary plot borders and axis ticks\n",
      "    \n",
      "    The top/right/left/bottom keywords toggle whether the corresponding plot border is drawn\n",
      "    \"\"\"\n",
      "    ax = axes or plt.gca()\n",
      "    ax.spines['top'].set_visible(top)\n",
      "    ax.spines['right'].set_visible(right)\n",
      "    ax.spines['left'].set_visible(left)\n",
      "    ax.spines['bottom'].set_visible(bottom)\n",
      "    \n",
      "    #turn off all ticks\n",
      "    ax.yaxis.set_ticks_position('none')\n",
      "    ax.xaxis.set_ticks_position('none')\n",
      "    \n",
      "    #now re-enable visibles\n",
      "    if top:\n",
      "        ax.xaxis.tick_top()\n",
      "    if bottom:\n",
      "        ax.xaxis.tick_bottom()\n",
      "    if left:\n",
      "        ax.yaxis.tick_left()\n",
      "    if right:\n",
      "        ax.yaxis.tick_right()"
     ],
     "language": "python",
     "metadata": {},
     "outputs": [],
     "prompt_number": 2
    },
    {
     "cell_type": "markdown",
     "metadata": {},
     "source": [
      "###Smalldf.csv Explained\n",
      "\n",
      "Smalldf.csv is a random sampling of 1/100th of the size of our actual data set. The function for making the sample set is written in the bottom of the flight scraping notebook. We chose to work with a smaller set at first so that we could make more changes and have less of a wait time in the formative stages of exploring the model. Although this can be a bad practice that would lead you astray, in the case of flight delays the smalldf has done a good job of being representative of the bigger dataset. Later in the notebook we import and work with the full 2012 dataset. \n",
      "\n",
      "Note: Multiple times thoughout our project we have recalculated smalldf to be differnt subsets of full dataset."
     ]
    },
    {
     "cell_type": "code",
     "collapsed": false,
     "input": [
      "df = pd.read_csv('maindata/smalldf.csv')"
     ],
     "language": "python",
     "metadata": {},
     "outputs": [],
     "prompt_number": 20
    },
    {
     "cell_type": "markdown",
     "metadata": {},
     "source": [
      "### Adding our prediction Column\n",
      "\n",
      "As discussed in the Sizing the data notebook we limit our dicussion to predict if a flight is delayed or not. We are also limiting those delays to ones that are greater than 15 min and are due to one of the two indications of weather, NAS_Delay or Weather_Delay. \n",
      "\n",
      "The below cell adds the 'Delayed' Column we would like to predict.\n",
      "\n",
      "The cell below also modifies all the NaN valuse to make sure that cancelled flights get counted as delayed in our definition of delayed. We set the values to 2000 in case we wanted to work with a higher DELAY_THRESHOLD value.\n"
     ]
    },
    {
     "cell_type": "code",
     "collapsed": false,
     "input": [
      "# FAA definition of a delayed flight\n",
      "DELAY_THRESHOLD = 15.\n",
      "\n",
      "# Nas_delay and Weather_delay  \n",
      "df.NAS_Delay.fillna(2000, inplace=True)     # Only nan when Canceled or Delay_Minutes == 0\n",
      "df.Weather_Delay.fillna(2000, inplace=True) # Only nan when Canceled or not delayed\n",
      "df.Delay_Minutes.fillna(2000, inplace=True) # These are canceled flights which we want to cound as \n",
      "df['Delayed'] = (((df['NAS_Delay'] > 0) | \n",
      "                  (df['Weather_Delay'] > 0)) & \n",
      "                 (df['Delay_Minutes'] > DELAY_THRESHOLD))*1\n",
      "print \"Number delays relating to weather:\", sum(df['Delayed'])"
     ],
     "language": "python",
     "metadata": {},
     "outputs": [
      {
       "output_type": "stream",
       "stream": "stdout",
       "text": [
        "Number delays relating to weather: 3320\n"
       ]
      }
     ],
     "prompt_number": 25
    },
    {
     "cell_type": "markdown",
     "metadata": {},
     "source": [
      "####Centering Weather Variables"
     ]
    },
    {
     "cell_type": "code",
     "collapsed": false,
     "input": [
      "# center some of the continuous variable columns\n",
      "to_center = ['Temp', 'Dewpoint', 'Precip', 'Pressure', 'Visibility', 'Windspeed']\n",
      "for col in to_center:\n",
      "    df[col] = (df[col] - df[col].mean())"
     ],
     "language": "python",
     "metadata": {},
     "outputs": [],
     "prompt_number": 26
    },
    {
     "cell_type": "code",
     "collapsed": false,
     "input": [
      "\"\"\"\n",
      "Creates dummy variables for categorical features and adds them to the data frame\n",
      "returns the new dataframe\n",
      "\"\"\"\n",
      "def dumbify_col(df, col):\n",
      "    dummy_cols = pd.get_dummies(df[col], prefix='dum_'+col)\n",
      "    cols = df.columns\n",
      "    # Decided to keed the column we dummified.\n",
      "    #cols_to_keep = []\n",
      "    #for coll in cols:\n",
      "    #    if coll != col:\n",
      "    #        cols_to_keep.append(coll)\n",
      "    data = df[cols].join(dummy_cols.ix[:,:])\n",
      "    return data\n"
     ],
     "language": "python",
     "metadata": {},
     "outputs": [],
     "prompt_number": 27
    },
    {
     "cell_type": "code",
     "collapsed": false,
     "input": [
      "df"
     ],
     "language": "python",
     "metadata": {},
     "outputs": [
      {
       "output_type": "stream",
       "stream": "stderr",
       "text": [
        "/Users/danielbroudy/anaconda/python.app/Contents/lib/python2.7/site-packages/pandas/core/config.py:570: DeprecationWarning: height has been deprecated.\n",
        "\n",
        "  warnings.warn(d.msg, DeprecationWarning)\n"
       ]
      },
      {
       "html": [
        "<pre>\n",
        "&lt;class 'pandas.core.frame.DataFrame'&gt;\n",
        "Int64Index: 32420 entries, 0 to 32419\n",
        "Data columns (total 29 columns):\n",
        "Airtime                31928  non-null values\n",
        "Carrier                32420  non-null values\n",
        "Carrier_Delay          5852  non-null values\n",
        "Day_of_week            32420  non-null values\n",
        "Delay_Minutes          32420  non-null values\n",
        "Dest                   32420  non-null values\n",
        "Distance               32420  non-null values\n",
        "Date                   32420  non-null values\n",
        "Flight_Num             32420  non-null values\n",
        "Late_Aircraft_Delay    5852  non-null values\n",
        "NAS_Delay              32420  non-null values\n",
        "Origin                 32420  non-null values\n",
        "Security_Delay         5852  non-null values\n",
        "Tailnum                32323  non-null values\n",
        "Weather_Delay          32420  non-null values\n",
        "Temp                   31665  non-null values\n",
        "Dewpoint               31663  non-null values\n",
        "Fog                    32418  non-null values\n",
        "Hail                   32418  non-null values\n",
        "Precip                 32266  non-null values\n",
        "Rain                   32418  non-null values\n",
        "Pressure               31303  non-null values\n",
        "Snow                   32418  non-null values\n",
        "Thunder                32418  non-null values\n",
        "Tornado                32418  non-null values\n",
        "Visibility             32418  non-null values\n",
        "Windspeed              31259  non-null values\n",
        "Dep_hour               32420  non-null values\n",
        "Delayed                32420  non-null values\n",
        "dtypes: float64(20), int64(4), object(5)\n",
        "</pre>"
       ],
       "metadata": {},
       "output_type": "pyout",
       "prompt_number": 28,
       "text": [
        "<class 'pandas.core.frame.DataFrame'>\n",
        "Int64Index: 32420 entries, 0 to 32419\n",
        "Data columns (total 29 columns):\n",
        "Airtime                31928  non-null values\n",
        "Carrier                32420  non-null values\n",
        "Carrier_Delay          5852  non-null values\n",
        "Day_of_week            32420  non-null values\n",
        "Delay_Minutes          32420  non-null values\n",
        "Dest                   32420  non-null values\n",
        "Distance               32420  non-null values\n",
        "Date                   32420  non-null values\n",
        "Flight_Num             32420  non-null values\n",
        "Late_Aircraft_Delay    5852  non-null values\n",
        "NAS_Delay              32420  non-null values\n",
        "Origin                 32420  non-null values\n",
        "Security_Delay         5852  non-null values\n",
        "Tailnum                32323  non-null values\n",
        "Weather_Delay          32420  non-null values\n",
        "Temp                   31665  non-null values\n",
        "Dewpoint               31663  non-null values\n",
        "Fog                    32418  non-null values\n",
        "Hail                   32418  non-null values\n",
        "Precip                 32266  non-null values\n",
        "Rain                   32418  non-null values\n",
        "Pressure               31303  non-null values\n",
        "Snow                   32418  non-null values\n",
        "Thunder                32418  non-null values\n",
        "Tornado                32418  non-null values\n",
        "Visibility             32418  non-null values\n",
        "Windspeed              31259  non-null values\n",
        "Dep_hour               32420  non-null values\n",
        "Delayed                32420  non-null values\n",
        "dtypes: float64(20), int64(4), object(5)"
       ]
      }
     ],
     "prompt_number": 28
    },
    {
     "cell_type": "markdown",
     "metadata": {},
     "source": [
      "####The Story Begins\n",
      "Our exploration of how to do Random Forests was not a smooth takeoff. We tried many iterations recycling code in the notebook so we decided to not submit all the unsuccessful iterations. Our first passes were just with the weather data and it was not very good at classifying the data. We then went through and tried different dummy variables for categorical values such as Carrier, Origin and, Day_of_week. It was a long process of trial and error that involved going back and rescraping the data and recombining it with weather data to get more of the features we wanted. \n",
      "\n",
      "#####Mild Successes\n",
      "Some features we added that were quite successful were Airtime, Distance and Hour.\n",
      "#####Hours Lost\n",
      "Below we also included one of our more timely ideas which was to use percent delayed for specific routes from 2011 data to predict 2012. This opperated under the assumption that flight numbers were reused from year to year. Below you will see we were wrong."
     ]
    },
    {
     "cell_type": "code",
     "collapsed": false,
     "input": [
      "data = dumbify_col(df, 'Origin')\n",
      "data = dumbify_col(data, 'Day_of_week')\n",
      "data = dumbify_col(data, 'Carrier')\n",
      "\n",
      "# In order to fit with code below. \n",
      "data.rename(columns={'Dep_hour': 'Hour'}, inplace=True)\n",
      "\n",
      "# The list of features that we want to look at the significance of.\n",
      "list(data.columns)"
     ],
     "language": "python",
     "metadata": {},
     "outputs": [
      {
       "metadata": {},
       "output_type": "pyout",
       "prompt_number": 29,
       "text": [
        "['Airtime',\n",
        " 'Carrier',\n",
        " 'Carrier_Delay',\n",
        " 'Day_of_week',\n",
        " 'Delay_Minutes',\n",
        " 'Dest',\n",
        " 'Distance',\n",
        " 'Date',\n",
        " 'Flight_Num',\n",
        " 'Late_Aircraft_Delay',\n",
        " 'NAS_Delay',\n",
        " 'Origin',\n",
        " 'Security_Delay',\n",
        " 'Tailnum',\n",
        " 'Weather_Delay',\n",
        " 'Temp',\n",
        " 'Dewpoint',\n",
        " 'Fog',\n",
        " 'Hail',\n",
        " 'Precip',\n",
        " 'Rain',\n",
        " 'Pressure',\n",
        " 'Snow',\n",
        " 'Thunder',\n",
        " 'Tornado',\n",
        " 'Visibility',\n",
        " 'Windspeed',\n",
        " 'Hour',\n",
        " 'Delayed',\n",
        " 'dum_Origin_ATL',\n",
        " 'dum_Origin_BOS',\n",
        " 'dum_Origin_CLT',\n",
        " 'dum_Origin_DEN',\n",
        " 'dum_Origin_DFW',\n",
        " 'dum_Origin_DTW',\n",
        " 'dum_Origin_EWR',\n",
        " 'dum_Origin_IAH',\n",
        " 'dum_Origin_JFK',\n",
        " 'dum_Origin_LAS',\n",
        " 'dum_Origin_LAX',\n",
        " 'dum_Origin_LGA',\n",
        " 'dum_Origin_MCO',\n",
        " 'dum_Origin_MIA',\n",
        " 'dum_Origin_MSP',\n",
        " 'dum_Origin_ORD',\n",
        " 'dum_Origin_PHL',\n",
        " 'dum_Origin_PHX',\n",
        " 'dum_Origin_SEA',\n",
        " 'dum_Origin_SFO',\n",
        " 'dum_Day_of_week_1',\n",
        " 'dum_Day_of_week_2',\n",
        " 'dum_Day_of_week_3',\n",
        " 'dum_Day_of_week_4',\n",
        " 'dum_Day_of_week_5',\n",
        " 'dum_Day_of_week_6',\n",
        " 'dum_Day_of_week_7',\n",
        " 'dum_Carrier_AA',\n",
        " 'dum_Carrier_AS',\n",
        " 'dum_Carrier_B6',\n",
        " 'dum_Carrier_DL',\n",
        " 'dum_Carrier_EV',\n",
        " 'dum_Carrier_F9',\n",
        " 'dum_Carrier_FL',\n",
        " 'dum_Carrier_HA',\n",
        " 'dum_Carrier_MQ',\n",
        " 'dum_Carrier_OO',\n",
        " 'dum_Carrier_UA',\n",
        " 'dum_Carrier_US',\n",
        " 'dum_Carrier_VX',\n",
        " 'dum_Carrier_WN',\n",
        " 'dum_Carrier_YV']"
       ]
      }
     ],
     "prompt_number": 29
    },
    {
     "cell_type": "code",
     "collapsed": false,
     "input": [
      "\"\"\"\n",
      "Helper functions for adding and removing the variables that have similar prefixes.\n",
      "Especially useful for dummy variables\n",
      "\"\"\"\n",
      "def add_training_cols(training_cols,prefix):\n",
      "    cols = np.array(data.columns)\n",
      "    to_add=[]\n",
      "    for col in cols:\n",
      "        if col.startswith(prefix):\n",
      "            to_add.append(col)\n",
      "    for col in to_add:\n",
      "        if col not in training_cols:\n",
      "            training_cols.append(col)\n",
      "    return training_cols\n",
      "            \n",
      "def remove_training_cols(training_cols,prefix):\n",
      "    to_keep = []\n",
      "    for col in training_cols:\n",
      "        if not col.startswith(prefix):\n",
      "            to_keep.append(col)\n",
      "    return to_keep"
     ],
     "language": "python",
     "metadata": {},
     "outputs": [],
     "prompt_number": 30
    },
    {
     "cell_type": "code",
     "collapsed": false,
     "input": [
      "training_cols = [\n",
      "                 #'DateTime',\n",
      "                 'Airtime',\n",
      "                 #'Carrier_Delay',\n",
      "                 #'Delay_Minutes',\n",
      "                 #'Dest',\n",
      "                 'Distance',\n",
      "                 #'Flight_Num',\n",
      "                 #'Late_Aircraft_Delay',\n",
      "                 #'NAS_Delay',\n",
      "                 #'Security_Delay',\n",
      "                 #'Tailnum',\n",
      "                 #'Weather_Delay',\n",
      "                 'Temp',\n",
      "                 'Dewpoint',\n",
      "                 'Fog',\n",
      "                 'Hail',\n",
      "                 'Precip',\n",
      "                 'Rain',\n",
      "                 'Pressure',\n",
      "                 'Snow',\n",
      "                 'Thunder',\n",
      "                 'Tornado',\n",
      "                 'Visibility',\n",
      "                 'Windspeed',\n",
      "                 #'Delayed',\n",
      "                 'dum_Origin_ATL',\n",
      "                 'dum_Origin_BOS',\n",
      "                 'dum_Origin_CLT',\n",
      "                 'dum_Origin_DEN',\n",
      "                 'dum_Origin_DFW',\n",
      "                 'dum_Origin_DTW',\n",
      "                 'dum_Origin_EWR',\n",
      "                 'dum_Origin_IAH',\n",
      "                 'dum_Origin_JFK',\n",
      "                 'dum_Origin_LAS',\n",
      "                 'dum_Origin_LAX',\n",
      "                 'dum_Origin_LGA',\n",
      "                 'dum_Origin_MCO',\n",
      "                 'dum_Origin_MIA',\n",
      "                 'dum_Origin_MSP',\n",
      "                 'dum_Origin_ORD',\n",
      "                 'dum_Origin_PHL',\n",
      "                 'dum_Origin_PHX',\n",
      "                 'dum_Origin_SEA',\n",
      "                 'dum_Origin_SFO',\n",
      "                 'dum_Day_of_week_1',\n",
      "                 'dum_Day_of_week_2',\n",
      "                 'dum_Day_of_week_3',\n",
      "                 'dum_Day_of_week_4',\n",
      "                 'dum_Day_of_week_5',\n",
      "                 'dum_Day_of_week_6',\n",
      "                 'dum_Day_of_week_7',\n",
      "                 'dum_Carrier_AA',\n",
      "                 'dum_Carrier_AS',\n",
      "                 'dum_Carrier_B6',\n",
      "                 'dum_Carrier_DL',\n",
      "                 'dum_Carrier_EV',\n",
      "                 'dum_Carrier_F9',\n",
      "                 'dum_Carrier_FL',\n",
      "                 'dum_Carrier_HA',\n",
      "                 'dum_Carrier_MQ',\n",
      "                 'dum_Carrier_OO',\n",
      "                 'dum_Carrier_UA',\n",
      "                 'dum_Carrier_US',\n",
      "                 'dum_Carrier_VX',\n",
      "                 'dum_Carrier_WN',\n",
      "                 'dum_Carrier_YV',\n",
      "                 'Hour'\n",
      "                 ]\n",
      "\n",
      "predict_col = ['Delayed']"
     ],
     "language": "python",
     "metadata": {},
     "outputs": [],
     "prompt_number": 31
    },
    {
     "cell_type": "code",
     "collapsed": false,
     "input": [
      "# remove rows with nans in training cols\n",
      "for col in training_cols:\n",
      "    data = data[np.logical_not(np.isnan(data[col]))]\n",
      "# This is to drop rows that have missing weather values. \n",
      "# In other notebooks we have checked that this only drops a small percentage of the datapoints"
     ],
     "language": "python",
     "metadata": {},
     "outputs": [],
     "prompt_number": 32
    },
    {
     "cell_type": "markdown",
     "metadata": {},
     "source": [
      "###Precision and Recall\n",
      "One of the issues that makes flight delays so difficult to predict is that they are so infrequent. In recent years the FAA has issued sanctions penalizing airlines for excessive delays and Airports have done a better job of handling medium to difficult weather. What we are left with is the problem of identifying rare events. \n",
      "\n",
      "In order to give ourselves a metric to use in evaluating how well our model does we created the below function that calculates precision and recall. \n",
      "\n",
      "When we use the built-in Score function provided by sklearn we get values in the .94 range because the model readily predicts that most of the flights will be on time. What we want to be able to do is to score well on the two following metrics, precision and recall. \n",
      "\n",
      "$$ \\mbox{precision}=\\frac{|\\{\\mbox{Delayed Flights}\\}\\cap\\{\\mbox{Predicted Flights}\\}|}{|\\{\\mbox{Predicted Flights}\\}|} $$\n",
      "\n",
      "$$ \\mbox{recall}=\\frac{|\\{\\mbox{Delayed Flights}\\}\\cap\\{\\mbox{Predicted Flights}\\}|}{|\\{\\mbox{Delayed Flights}\\}|} $$\n",
      "\n",
      "This definition of Precision is also know as the Positive Predictive Value.\n",
      "\n",
      "NOTE: We recognize that this is different form the definition of precision used in the precision vs. accuracy discussions we have had in this class.\n",
      "\n",
      "Recall is also know as sensitivity.\n"
     ]
    },
    {
     "cell_type": "code",
     "collapsed": false,
     "input": [
      "\"\"\"\n",
      "Helper function that prints some important numbers for the predictions\n",
      "such as Recall and Precision in a readible way\n",
      "\"\"\"\n",
      "def pretty_print_results(preds, ytest, should_print=True):\n",
      "    correct_delayed = 0\n",
      "    correct_non_delayed = 0\n",
      "    failed_delayed = 0\n",
      "    failed_non_delayed = 0\n",
      "    \n",
      "    for i in range(len(preds)):\n",
      "        if ytest[i]:\n",
      "            if preds[i] == ytest[i]:\n",
      "                correct_delayed +=1\n",
      "            else:\n",
      "                failed_delayed += 1\n",
      "        else:\n",
      "            if preds[i] == ytest[i]:\n",
      "                correct_non_delayed += 1\n",
      "            else:\n",
      "                failed_non_delayed += 1\n",
      "                \n",
      "    recall = float(correct_delayed)/sum(ytest)\n",
      "    precision = float(correct_delayed)/sum(preds)\n",
      "    if should_print:\n",
      "        print \"Recall: {0:.4f}\".format(recall)\n",
      "        print \"Precision: {0:.4f}\".format(precision)\n",
      "        print \"{0} out of {1} predicted delays were correct\".format(correct_delayed, sum(preds))\n",
      "        #print \"{0} were falsely identified as delayed\".format(failed_non_delayed)\n",
      "        print \"{0} were delayed and not identified\".format(failed_delayed)\n",
      "        print \"in total, there were {0} delays out of {1} flights\".format(sum(ytest),len(ytest))\n",
      "    return precision, recall\n"
     ],
     "language": "python",
     "metadata": {},
     "outputs": [],
     "prompt_number": 16
    },
    {
     "cell_type": "markdown",
     "metadata": {},
     "source": [
      "####Training and Test set\n",
      "Although much of the literature online talks about how Random Forests do not need to be broken up into a training and test set because they the ensemble of learners take subsets of the data set and then use Our of Bag error to determine their sucess at predicting, we still broke up the dataset into training and test set to both illistrate our knowledge of that important subject in class and because we repeatedly use the same dataset to explore different possible feature sets and we want another layer of protection from potentially overfitting to this specific subset of the data."
     ]
    },
    {
     "cell_type": "code",
     "collapsed": false,
     "input": [
      "from sklearn.cross_validation import train_test_split\n",
      "from sklearn.ensemble import RandomForestClassifier\n",
      "\n",
      "\"\"\"\n",
      "Helper function that runs the random forest which we anticipate doing many times\n",
      "\"\"\"\n",
      "def run_random_forest(df, training_cols, predict_col='Delayed',trees=10, test_fraction=0.33, \n",
      "                      num_jobs=2):\n",
      "    X = df[training_cols]\n",
      "    Y = df[predict_col]\n",
      "    xtrain, xtest, ytrain, ytest = train_test_split(X, Y, test_size=test_fraction)\n",
      "    clf = RandomForestClassifier(n_jobs=num_jobs, n_estimators=trees)\n",
      "    clf.fit(xtrain, ytrain)\n",
      "    \n",
      "    return clf, xtrain, xtest, ytrain, ytest"
     ],
     "language": "python",
     "metadata": {},
     "outputs": [],
     "prompt_number": 13
    },
    {
     "cell_type": "markdown",
     "metadata": {},
     "source": [
      "##Determining our most important features\n",
      "\n",
      "After many different iterations of feature sets we decided it would be a good demostration of some of the tests we ran to show running the Random Forest Classifier on all of the features and displaying the ranking we found.\n",
      "\n"
     ]
    },
    {
     "cell_type": "code",
     "collapsed": false,
     "input": [
      "clf, xtrain, xtest, ytrain,ytest = run_random_forest(data, training_cols)"
     ],
     "language": "python",
     "metadata": {},
     "outputs": [],
     "prompt_number": 35
    },
    {
     "cell_type": "code",
     "collapsed": false,
     "input": [
      "# Print the relative importance of training cols\n",
      "cols = training_cols\n",
      "imps = clf.feature_importances_\n",
      "imps, cols = zip(*sorted(zip(imps, cols), reverse=True))\n",
      "\n",
      "print \"Most Important Features\"\n",
      "for i in range(len(imps)):\n",
      "    print \"{0:2}. {1:19} {2:0.5f}\".format(i+1, cols[i], imps[i])  "
     ],
     "language": "python",
     "metadata": {},
     "outputs": [
      {
       "output_type": "stream",
       "stream": "stdout",
       "text": [
        "Most Important Features\n",
        " 1. Airtime             0.11303\n",
        " 2. Pressure            0.10251\n",
        " 3. Dewpoint            0.09878\n",
        " 4. Distance            0.09689\n",
        " 5. Temp                0.09538\n",
        " 6. Hour                0.07755\n",
        " 7. Windspeed           0.07355\n",
        " 8. Visibility          0.04946\n",
        " 9. Precip              0.01440\n",
        "10. dum_Day_of_week_4   0.01416\n",
        "11. dum_Day_of_week_1   0.01317\n",
        "12. dum_Day_of_week_2   0.01282\n",
        "13. dum_Day_of_week_5   0.01229\n",
        "14. dum_Day_of_week_7   0.01099\n",
        "15. Rain                0.01072\n",
        "16. dum_Day_of_week_3   0.01044\n",
        "17. dum_Day_of_week_6   0.01009\n",
        "18. dum_Carrier_DL      0.00930\n",
        "19. dum_Carrier_EV      0.00892\n",
        "20. dum_Origin_ORD      0.00825\n",
        "21. dum_Carrier_AA      0.00803\n",
        "22. dum_Origin_ATL      0.00790\n",
        "23. dum_Carrier_UA      0.00743\n",
        "24. Thunder             0.00740\n",
        "25. dum_Origin_IAH      0.00661\n",
        "26. dum_Carrier_WN      0.00627\n",
        "27. Fog                 0.00625\n",
        "28. dum_Origin_DEN      0.00597\n",
        "29. dum_Carrier_MQ      0.00573\n",
        "30. dum_Carrier_OO      0.00556\n",
        "31. dum_Origin_DFW      0.00556\n",
        "32. dum_Origin_PHX      0.00527\n",
        "33. dum_Carrier_US      0.00514\n",
        "34. dum_Origin_LAX      0.00513\n",
        "35. dum_Origin_EWR      0.00509\n",
        "36. dum_Carrier_B6      0.00504\n",
        "37. dum_Origin_SFO      0.00464\n",
        "38. dum_Origin_MCO      0.00462\n",
        "39. Snow                0.00424\n",
        "40. dum_Origin_DTW      0.00420\n",
        "41. dum_Origin_BOS      0.00387\n",
        "42. dum_Carrier_FL      0.00375\n",
        "43. dum_Origin_JFK      0.00373\n",
        "44. dum_Origin_PHL      0.00352\n",
        "45. dum_Origin_LAS      0.00346\n",
        "46. dum_Carrier_VX      0.00321\n",
        "47. dum_Origin_LGA      0.00316\n",
        "48. dum_Carrier_F9      0.00286\n",
        "49. dum_Origin_MIA      0.00263\n",
        "50. dum_Origin_CLT      0.00247\n",
        "51. dum_Origin_MSP      0.00243\n",
        "52. dum_Carrier_AS      0.00205\n",
        "53. dum_Origin_SEA      0.00201\n",
        "54. dum_Carrier_YV      0.00121\n",
        "55. Hail                0.00087\n",
        "56. dum_Carrier_HA      0.00002\n",
        "57. Tornado             -0.00000\n"
       ]
      }
     ],
     "prompt_number": 36
    },
    {
     "cell_type": "markdown",
     "metadata": {},
     "source": [
      "This was incredibly helpful in identifying which features were worth exploring further and which were not. Airtime was our best indicator. This could be for a variety of reasons. Longer flights are more likely to be disrupted by weather enroute because they cover more teritory. Longer flights are also more likely to be bigger planes which could have more passanger related delays. Tornado was freqently not a very good indicator because they are so infrequent. In some iterations of smalldf (we have taken different samples) there were more tornados and it was a more significant feature. \n",
      "\n",
      "One of our confusions from this was that the dummy variables for Origin Airport and Airline were not very helpful in determining delays. "
     ]
    },
    {
     "cell_type": "code",
     "collapsed": false,
     "input": [
      "print \"Score on the training set: {0:.4f}\".format(clf.score(xtrain,ytrain))\n",
      "print \"Score on the test set:     {0:.4f}\".format(clf.score(xtest,ytest))\n",
      "print\n",
      "preds = clf.predict(xtest)\n",
      "pretty_print_results(preds,ytest)\n",
      "pass"
     ],
     "language": "python",
     "metadata": {},
     "outputs": [
      {
       "output_type": "stream",
       "stream": "stdout",
       "text": [
        "Score on the training set: 0.9828\n"
       ]
      },
      {
       "output_type": "stream",
       "stream": "stdout",
       "text": [
        "Score on the test set:     0.9099\n",
        "\n"
       ]
      },
      {
       "output_type": "stream",
       "stream": "stdout",
       "text": [
        "Recall: 0.0167\n",
        "Precision: 0.4412\n",
        "15 out of 34 predicted delays were correct\n",
        "882 were delayed and not identified\n",
        "in total, there were 897 delays out of 10001 flights\n"
       ]
      },
      {
       "metadata": {},
       "output_type": "pyout",
       "prompt_number": 37,
       "text": [
        "(0.44117647058823528, 0.016722408026755852)"
       ]
      }
     ],
     "prompt_number": 37
    },
    {
     "cell_type": "markdown",
     "metadata": {},
     "source": [
      "####Importance of other metrics\n",
      "Above we can see the importance of taking metrics such as Recall and Precision. If we just looked at the score on the training set or score on the test set we would be super excited about how well our model is preforming. It is once we get to the other metrics that we really see how the model is doing at predicting delays. \n",
      "\n",
      "####Overfitting\n",
      "We are also looking at the effects of over fitting. The model preforms noticeably better on the traing set than on the test set which is a red flag that this should be a consideration."
     ]
    },
    {
     "cell_type": "code",
     "collapsed": false,
     "input": [
      "\"\"\"\n",
      "Plot that assesses model calibration.\n",
      "\"\"\"\n",
      "def calibration_plot(clf, xtest, ytest):\n",
      "    prob = clf.predict_proba(xtest)[:, 1]\n",
      "    outcome = ytest\n",
      "    data = pd.DataFrame(dict(prob=prob, outcome=outcome))\n",
      "\n",
      "    #group outcomes into bins of similar probability\n",
      "    bins = np.linspace(0, 1, 20)\n",
      "    cuts = pd.cut(prob, bins)\n",
      "    binwidth = bins[1] - bins[0]\n",
      "    \n",
      "    #  and number of examples in each bin\n",
      "    cal = data.groupby(cuts).outcome.agg(['mean', 'count'])\n",
      "    cal['pmid'] = (bins[:-1] + bins[1:]) / 2\n",
      "    cal['sig'] = np.sqrt(cal.pmid * (1 - cal.pmid) / cal['count'])\n",
      "        \n",
      "    #the calibration plot\n",
      "    ax = plt.subplot2grid((3, 1), (0, 0), rowspan=2)\n",
      "    p = plt.errorbar(cal.pmid, cal['mean'], cal['sig'])\n",
      "    plt.plot(cal.pmid, cal.pmid, linestyle='--', lw=1, color='k')\n",
      "    plt.ylabel(\"Empirical P(Delay)\")\n",
      "    remove_border(ax)\n",
      "    \n",
      "    #the distribution of P(delay)\n",
      "    ax = plt.subplot2grid((3, 1), (2, 0), sharex=ax)\n",
      "    \n",
      "    plt.bar(left=cal.pmid - binwidth / 2, height=cal['count'],\n",
      "            width=.95 * (bins[1] - bins[0]),\n",
      "            fc=p[0].get_color())\n",
      "    \n",
      "    plt.xlabel(\"Predicted P(Delay)\")\n",
      "    remove_border()\n",
      "    plt.ylabel(\"Number\")\n",
      "    \n",
      "calibration_plot(clf,xtest,ytest)"
     ],
     "language": "python",
     "metadata": {},
     "outputs": [
      {
       "metadata": {},
       "output_type": "display_data",
       "png": "[encoded data removed]",
       "text": [
        "<matplotlib.figure.Figure at 0x1071b6d50>"
       ]
      }
     ],
     "prompt_number": 17
    },
    {
     "cell_type": "markdown",
     "metadata": {},
     "source": [
      "###Calibration\n",
      "\n",
      "We used these plots to confirm our knowledge that our model was not performing well and could benefit from better calibration. \n",
      "\n",
      "We explored the use of an increased number of trees. We found that this would decrease our number of predicted delays which is something we had been struggling to increase.  \n",
      "\n",
      "We tried 50 trees, 100 trees, and more, and it didn't help. The default 10 seemed to be a pretty good number."
     ]
    },
    {
     "cell_type": "code",
     "collapsed": false,
     "input": [
      "print \"The default transform function would limit us to these features\"\n",
      "X_r = clf.transform(training_cols)\n",
      "for i in range(len(X_r[0])): \n",
      "    print \"{0:19} \".format(X_r[0][i])  \n"
     ],
     "language": "python",
     "metadata": {},
     "outputs": [
      {
       "output_type": "stream",
       "stream": "stdout",
       "text": [
        "The default transform function would limit us to these features\n",
        "Airtime             \n",
        "Distance            \n",
        "Temp                \n",
        "Dewpoint            \n",
        "Pressure            \n",
        "Visibility          \n",
        "Windspeed           \n",
        "Hour                \n"
       ]
      }
     ],
     "prompt_number": 18
    },
    {
     "cell_type": "markdown",
     "metadata": {},
     "source": [
      "##Changes going forward\n",
      "\n",
      "We want to run the model on the smaller feature list above and compare the results. The more features make the model more suseptible to overfitting and less tractable as we scale up the the bigger dataset. By limiting our feature set to only the most important ones we can enforce simplicity in our model which combats overfitting.\n",
      "\n",
      "Another idea we had was to split the hour into an indicator of thirds of the day. "
     ]
    },
    {
     "cell_type": "code",
     "collapsed": false,
     "input": [
      "training_cols = ['Airtime', 'Distance', 'Temp', 'Dewpoint', 'Pressure', 'Visibility', 'Windspeed',\n",
      "                 'Hour']"
     ],
     "language": "python",
     "metadata": {},
     "outputs": [],
     "prompt_number": 19
    },
    {
     "cell_type": "code",
     "collapsed": false,
     "input": [
      "clf, xtrain, xtest, ytrain,ytest = run_random_forest(data, training_cols)\n",
      "print \"Score on the training set: {0:.4f}\".format(clf.score(xtrain,ytrain))\n",
      "print \"Score on the test set:     {0:.4f}\".format(clf.score(xtest,ytest))\n",
      "print\n",
      "preds = clf.predict(xtest)\n",
      "pretty_print_results(preds,ytest)\n",
      "pass"
     ],
     "language": "python",
     "metadata": {},
     "outputs": [
      {
       "output_type": "stream",
       "stream": "stdout",
       "text": [
        "Score on the training set: 0.9868\n"
       ]
      },
      {
       "output_type": "stream",
       "stream": "stdout",
       "text": [
        "Score on the test set:     0.9403\n",
        "\n"
       ]
      },
      {
       "output_type": "stream",
       "stream": "stdout",
       "text": [
        "Recall: 0.0236\n",
        "Precision: 0.4516\n",
        "14 out of 31 predicted delays were correct\n",
        "580 were delayed and not identified\n",
        "in total, there were 594 delays out of 10001 flights\n"
       ]
      },
      {
       "metadata": {},
       "output_type": "pyout",
       "prompt_number": 20,
       "text": [
        "(0.45161290322580644, 0.023569023569023569)"
       ]
      }
     ],
     "prompt_number": 20
    },
    {
     "cell_type": "markdown",
     "metadata": {},
     "source": [
      "####Decreased Overfitting\n",
      "As we can see from the score on the training set vs test set, as we predicted, limiting the model to a smaller feature set did decrease overfitting. We also saw a small increase in recall and a small decrease in precision. \n",
      "\n",
      "This model is significanly simpler with 8 features instead of 57!"
     ]
    },
    {
     "cell_type": "code",
     "collapsed": false,
     "input": [
      "calibration_plot(clf,xtest,ytest)"
     ],
     "language": "python",
     "metadata": {},
     "outputs": [
      {
       "metadata": {},
       "output_type": "display_data",
       "png": "[encoded data removed]",
       "text": [
        "<matplotlib.figure.Figure at 0x106eb0490>"
       ]
      }
     ],
     "prompt_number": 21
    },
    {
     "cell_type": "markdown",
     "metadata": {},
     "source": [
      "This is a much simpler model that would train much faster than using all 57 features. \n",
      "\n",
      "The calibration plot is inconclusive as to whether or not this is a better calibrated model."
     ]
    },
    {
     "cell_type": "code",
     "collapsed": false,
     "input": [
      "# Splitting up hour variable into indicators for thirds of day\n",
      "\n",
      "# This was the moment that we discovered that we had lost all flights before 9am due to a parsing error\n",
      "# in our MRJob script. This is left here as a demostration of how difficult it was to get all the data\n",
      "# and how many times we had to loop back and redo. The above plots are with the improved version of the\n",
      "# smalldf that included these morning flights. We definitly experienced the phenomenon described in class\n",
      "# that a significant portion of time was spent scraping and cleaning data. \n",
      "print min(data['Hour'])\n"
     ],
     "language": "python",
     "metadata": {},
     "outputs": [
      {
       "output_type": "stream",
       "stream": "stdout",
       "text": [
        "0\n"
       ]
      }
     ],
     "prompt_number": 22
    },
    {
     "cell_type": "markdown",
     "metadata": {},
     "source": [
      "## Experiment: Adding in Tailnum and Flight_Num \n",
      "\n",
      "#### Q: If we added delay percentage for a given Flight_Num and Tailnum, would those be significant features?\n",
      "\n",
      "This is an example of an idea that we pursued that did not go well in the long run. \n",
      "\n",
      "We were sure that if we added the percentage delayed for a given Flight_Num and Tailnum based on the data from 2012 that this would become a significant feature and greatly increase the model. This is because this would include the information about the flights that we are trying to predict. What we wanted to try was to match up these values with the percentage delay values from 2011. The thought was that we would have a convenient way of using percentage delay for a specific route or for a specific aircraft.  \n",
      "\n",
      "Flight_Num was supposed to be an indicator of the route. \n",
      "\n",
      "Tailnum is a unique number assigned to an aircraft"
     ]
    },
    {
     "cell_type": "code",
     "collapsed": false,
     "input": [
      "# Calculating the percent delay for a given flightnum and tailnum in 2012\n",
      "print len(set(data.Tailnum))\n",
      "print len(set(data.Flight_Num))\n",
      "print len(set(data.index))\n",
      "\n",
      "# lets calculate the ontime percentage for each Flight num and tailnum and add those to the dataframe. \n",
      "percent_Delay_Tailnum = {}\n",
      "group_tailnum = data.groupby('Tailnum')\n",
      "for key, value in group_tailnum:\n",
      "    percent_Delay_Tailnum[key]=float(sum(value.Delayed))/float(len(value.index))\n",
      "\n",
      "#print percent_Delay_Tailnum\n",
      "\n",
      "percent_Delay_Flight_Num = {}\n",
      "group_flight_num = data.groupby('Flight_Num')\n",
      "for key, value in group_flight_num:\n",
      "    percent_Delay_Flight_Num[key]=float(sum(value.Delayed))/float(len(value.index))\n",
      "\n",
      "#print percent_Delay_Flight_Num\n",
      "\n",
      "Tailnum_Del_percent = []\n",
      "Flight_Num_del_percent = []\n",
      "for count, row in data.iterrows():\n",
      "    Tailnum_Del_percent.append(percent_Delay_Tailnum[row['Tailnum']])\n",
      "    Flight_Num_del_percent.append(percent_Delay_Flight_Num[row['Flight_Num']])\n",
      "\n",
      "data['Tailnum_del_percent'] = Tailnum_Del_percent\n",
      "data['Flight_Num_del_percent'] = Flight_Num_del_percent"
     ],
     "language": "python",
     "metadata": {},
     "outputs": [
      {
       "output_type": "stream",
       "stream": "stdout",
       "text": [
        "4321\n",
        "5473\n",
        "30304\n"
       ]
      }
     ],
     "prompt_number": 23
    },
    {
     "cell_type": "code",
     "collapsed": false,
     "input": [
      "training_cols = ['Airtime', 'Distance', 'Temp', 'Dewpoint', 'Pressure', 'Visibility', 'Windspeed',\n",
      "                 'Hour', 'Tailnum_del_percent', 'Flight_Num_del_percent' ]\n"
     ],
     "language": "python",
     "metadata": {},
     "outputs": [],
     "prompt_number": 24
    },
    {
     "cell_type": "code",
     "collapsed": false,
     "input": [
      "clf, xtrain, xtest, ytrain,ytest = run_random_forest(data, training_cols)\n",
      "print \"Score on the training set: {0:.4f}\".format(clf.score(xtrain,ytrain))\n",
      "print \"Score on the test set:     {0:.4f}\".format(clf.score(xtest,ytest))\n",
      "print\n",
      "preds = clf.predict(xtest)\n",
      "pretty_print_results(preds,ytest)"
     ],
     "language": "python",
     "metadata": {},
     "outputs": [
      {
       "output_type": "stream",
       "stream": "stdout",
       "text": [
        "Score on the training set: 0.9966\n"
       ]
      },
      {
       "output_type": "stream",
       "stream": "stdout",
       "text": [
        "Score on the test set:     0.9506\n",
        "\n"
       ]
      },
      {
       "output_type": "stream",
       "stream": "stdout",
       "text": [
        "Recall: 0.3686\n",
        "Precision: 0.6058\n",
        "209 out of 345 predicted delays were correct\n",
        "358 were delayed and not identified\n",
        "in total, there were 567 delays out of 10001 flights\n"
       ]
      },
      {
       "metadata": {},
       "output_type": "pyout",
       "prompt_number": 25,
       "text": [
        "(0.60579710144927534, 0.36860670194003525)"
       ]
      }
     ],
     "prompt_number": 25
    },
    {
     "cell_type": "markdown",
     "metadata": {},
     "source": [
      "####Suspicions Confirmed \n",
      "As we can see this is easily our best model. This is where we confirmed our suspicion that if we used the percent delayed for a given tailnumber or for a given flight number that it would increase our model's predictive value. This is using the precent delay from 2012 which is not valid information to have if you are trying to predict the flight delay of a flight in 2012. \n",
      "\n",
      "This was more of a proof of concept. We then went to scrape the 2011 equivalent data and calculate the percent delay values for a given tailnumber and route number."
     ]
    },
    {
     "cell_type": "code",
     "collapsed": false,
     "input": [
      "# Print the relative importance of training cols\n",
      "cols = training_cols\n",
      "imps = clf.feature_importances_\n",
      "imps, cols = zip(*sorted(zip(imps, cols), reverse=True))\n",
      "\n",
      "print \"Most Important Features\"\n",
      "for i in range(len(imps)):\n",
      "    print \"{0:2}. {1:23} {2:0.5f}\".format(i+1, cols[i], imps[i]) "
     ],
     "language": "python",
     "metadata": {},
     "outputs": [
      {
       "output_type": "stream",
       "stream": "stdout",
       "text": [
        "Most Important Features\n",
        " 1. Flight_Num_del_percent  0.26992\n",
        " 2. Tailnum_del_percent     0.22858\n",
        " 3. Airtime                 0.07912\n",
        " 4. Pressure                0.07457\n",
        " 5. Distance                0.07082\n",
        " 6. Temp                    0.06481\n",
        " 7. Dewpoint                0.06379\n",
        " 8. Hour                    0.05416\n",
        " 9. Windspeed               0.04983\n",
        "10. Visibility              0.04440\n"
       ]
      }
     ],
     "prompt_number": 26
    },
    {
     "cell_type": "markdown",
     "metadata": {},
     "source": [
      "It is clear that Tailnum_del_percent and Flight_num_del_percent would be meaningful features when you take those numbers from the flights that were actually in this year. What we will have to do is get those numbers from the previous years so they will not include the actual delays of the flights we are training and testing on. \n"
     ]
    },
    {
     "cell_type": "markdown",
     "metadata": {},
     "source": [
      "###Importing Delay Percentages from 2011 Flight_Num and Tail Num\n",
      "In the notebook Getting 2011 Delay Percentages we imported all the 2011 flights and calculated the delay percentage for a given tailnumber and flight number."
     ]
    },
    {
     "cell_type": "code",
     "collapsed": false,
     "input": [
      "reader = csv.reader(open('maindata/percent_Delay_Flight_Num_2011.old.csv', 'rb'))\n",
      "Flight_Num_to_percent_delay = dict((int(flight_num), float(percent)) for flight_num, percent in reader)"
     ],
     "language": "python",
     "metadata": {},
     "outputs": [],
     "prompt_number": 27
    },
    {
     "cell_type": "code",
     "collapsed": false,
     "input": [
      "reader = csv.reader(open('maindata/percent_Delay_Tailnum_2011.csv', 'rb'))\n",
      "Tailnum_to_percent_delay = dict((tailnum, float(percent)) for tailnum, percent in reader)"
     ],
     "language": "python",
     "metadata": {},
     "outputs": [],
     "prompt_number": 28
    },
    {
     "cell_type": "code",
     "collapsed": false,
     "input": [
      "print \"Flight Num\"\n",
      "print len(set(data.Flight_Num))\n",
      "print len(Flight_Num_to_percent_delay.keys())\n",
      "print \"Tail Num\"\n",
      "print len(set(data.Tailnum))\n",
      "print len(Tailnum_to_percent_delay.keys())"
     ],
     "language": "python",
     "metadata": {},
     "outputs": [
      {
       "output_type": "stream",
       "stream": "stdout",
       "text": [
        "Flight Num\n",
        "5473\n",
        "7268\n",
        "Tail Num\n",
        "4321\n",
        "4631\n"
       ]
      }
     ],
     "prompt_number": 29
    },
    {
     "cell_type": "code",
     "collapsed": false,
     "input": [
      "Missing_flightnums = 0\n",
      "Missing_tailnums = 0\n",
      "\n",
      "Tailnum_Del_percent = []\n",
      "Flight_Num_del_percent = []\n",
      "for count, row in data.iterrows():\n",
      "    if row['Tailnum'] in Tailnum_to_percent_delay:\n",
      "        Tailnum_Del_percent.append(Tailnum_to_percent_delay[row['Tailnum']])\n",
      "    else:\n",
      "        Tailnum_Del_percent.append(float('Nan'))\n",
      "        Missing_tailnums += 1\n",
      "    if row['Flight_Num'] in Flight_Num_to_percent_delay:\n",
      "        Flight_Num_del_percent.append(Flight_Num_to_percent_delay[row['Flight_Num']])\n",
      "    else:\n",
      "        Flight_Num_del_percent.append(float('Nan'))\n",
      "        Missing_flightnums += 1\n",
      "        \n",
      "\n",
      "data['Tailnum_del_percent'] = Tailnum_Del_percent\n",
      "data['Flight_Num_del_percent'] = Flight_Num_del_percent\n",
      "\n",
      "print Missing_flightnums\n",
      "print Missing_tailnums\n",
      "print len(set(data['Tailnum']))\n"
     ],
     "language": "python",
     "metadata": {},
     "outputs": [
      {
       "output_type": "stream",
       "stream": "stdout",
       "text": [
        "37\n",
        "1078\n",
        "4321\n"
       ]
      }
     ],
     "prompt_number": 30
    },
    {
     "cell_type": "markdown",
     "metadata": {},
     "source": [
      "When we imported the Flight Number percentage and Tailnumber percentages from 2011 we were missing 38 Flight numbers and 1078 Tailnumbers. This is because there were over 1323 new aircrafts flying among the top 20 airports in 2012, fun fact. \n",
      "\n",
      "We will try replacing the the Missing flight numbers with the average percent delay for any flight number from 2011 and see if it is a worthwhile feature to add into our random forest."
     ]
    },
    {
     "cell_type": "code",
     "collapsed": false,
     "input": [
      "all_percents = list(value for key,value in Flight_Num_to_percent_delay.items())\n",
      "mean_flight_num_delay_percent = np.mean(all_percents)"
     ],
     "language": "python",
     "metadata": {},
     "outputs": [],
     "prompt_number": 33
    },
    {
     "cell_type": "code",
     "collapsed": false,
     "input": [
      "Flight_Num_del_percent = []\n",
      "for count, row in data.iterrows():\n",
      "    if row['Flight_Num'] in Flight_Num_to_percent_delay:\n",
      "        Flight_Num_del_percent.append(Flight_Num_to_percent_delay[row['Flight_Num']])\n",
      "    else:\n",
      "        Flight_Num_del_percent.append(mean_flight_num_delay_percent)\n",
      "        \n",
      "data['Flight_Num_del_percent'] = Flight_Num_del_percent"
     ],
     "language": "python",
     "metadata": {},
     "outputs": [],
     "prompt_number": 34
    },
    {
     "cell_type": "code",
     "collapsed": false,
     "input": [
      "training_cols = ['Airtime', 'Distance', 'Temp', 'Dewpoint', 'Pressure', 'Visibility', 'Windspeed',\n",
      "                 'Hour', \n",
      "                 #'Tailnum_del_percent', \n",
      "                 'Flight_Num_del_percent' ]\n"
     ],
     "language": "python",
     "metadata": {},
     "outputs": [],
     "prompt_number": 35
    },
    {
     "cell_type": "code",
     "collapsed": false,
     "input": [
      "clf, xtrain, xtest, ytrain,ytest = run_random_forest(data, training_cols)\n",
      "print \"Score on the training set: {0:.4f}\".format(clf.score(xtrain,ytrain))\n",
      "print \"Score on the test set:     {0:.4f}\".format(clf.score(xtest,ytest))\n",
      "print\n",
      "preds = clf.predict(xtest)\n",
      "pretty_print_results(preds,ytest)"
     ],
     "language": "python",
     "metadata": {},
     "outputs": [
      {
       "output_type": "stream",
       "stream": "stdout",
       "text": [
        "Score on the training set: 0.9879\n"
       ]
      },
      {
       "output_type": "stream",
       "stream": "stdout",
       "text": [
        "Score on the test set:     0.9388\n",
        "\n"
       ]
      },
      {
       "output_type": "stream",
       "stream": "stdout",
       "text": [
        "Recall: 0.0066\n",
        "Precision: 0.3077\n",
        "4 out of 13 predicted delays were correct\n",
        "603 were delayed and not identified\n",
        "in total, there were 607 delays out of 10001 flights\n"
       ]
      },
      {
       "metadata": {},
       "output_type": "pyout",
       "prompt_number": 36,
       "text": [
        "(0.30769230769230771, 0.0065897858319604614)"
       ]
      }
     ],
     "prompt_number": 36
    },
    {
     "cell_type": "code",
     "collapsed": false,
     "input": [
      "# Print the relative importance of training cols\n",
      "cols = training_cols\n",
      "imps = clf.feature_importances_\n",
      "imps, cols = zip(*sorted(zip(imps, cols), reverse=True))\n",
      "\n",
      "print \"Most Important Features\"\n",
      "for i in range(len(imps)):\n",
      "    print \"{0:2}. {1:23} {2:0.5f}\".format(i+1, cols[i], imps[i]) "
     ],
     "language": "python",
     "metadata": {},
     "outputs": [
      {
       "output_type": "stream",
       "stream": "stdout",
       "text": [
        "Most Important Features\n",
        " 1. Flight_Num_del_percent  0.16023\n",
        " 2. Airtime                 0.13613\n",
        " 3. Pressure                0.13463\n",
        " 4. Distance                0.12923\n",
        " 5. Temp                    0.11321\n",
        " 6. Dewpoint                0.10305\n",
        " 7. Windspeed               0.08176\n",
        " 8. Hour                    0.07518\n",
        " 9. Visibility              0.06659\n"
       ]
      }
     ],
     "prompt_number": 37
    },
    {
     "cell_type": "markdown",
     "metadata": {},
     "source": [
      "We then tried centralizing the flight num delay percentage instead."
     ]
    },
    {
     "cell_type": "code",
     "collapsed": false,
     "input": [
      "# Centralize Flight_Num Delay percentage \n",
      "Flight_Num_del_percent = []\n",
      "for count, row in data.iterrows():\n",
      "    if row['Flight_Num'] in Flight_Num_to_percent_delay:\n",
      "        Flight_Num_del_percent.append(Flight_Num_to_percent_delay[row['Flight_Num']] -mean_flight_num_delay_percent)\n",
      "    else:\n",
      "        Flight_Num_del_percent.append(0)\n",
      "        \n",
      "data['Flight_Num_del_percent'] = Flight_Num_del_percent"
     ],
     "language": "python",
     "metadata": {},
     "outputs": [],
     "prompt_number": 38
    },
    {
     "cell_type": "code",
     "collapsed": false,
     "input": [
      "training_cols = ['Airtime', 'Distance', 'Temp', 'Dewpoint', 'Pressure', 'Visibility', 'Windspeed',\n",
      "                 'Hour', \n",
      "                 #'Tailnum_del_percent', \n",
      "                 'Flight_Num_del_percent' ]\n"
     ],
     "language": "python",
     "metadata": {},
     "outputs": [],
     "prompt_number": 39
    },
    {
     "cell_type": "code",
     "collapsed": false,
     "input": [
      "\"\"\"\n",
      "We noticed when we ran the random forests on the same dataset \n",
      "multiple times we would get different result. (probably partially due to our using \n",
      "a training and test set) \n",
      "We wrote this function incase we wanted to run them multiple times in a loop and average.\n",
      "This turned out to be intractible.\n",
      "\"\"\"\n",
      "def run_multiple_random_forest(number, data, training_cols):\n",
      "        percision = []\n",
      "        recall = []\n",
      "        score_train = []\n",
      "        score_test = []\n",
      "        for i in range(number):\n",
      "            clf, xtrain, xtest, ytrain,ytest = run_random_forest(data, training_cols)\n",
      "            score_train.append(clf.score(xtrain,ytrain))\n",
      "            score_test.append(clf.score(xtest,ytest))\n",
      "            preds = clf.predict(xtest)\n",
      "            perc,recal = pretty_print_results(preds,ytest,should_print=False)\n",
      "            percision.append(percision)\n",
      "            recall.append(recal)\n",
      "        print \"Percision: {0:.5f}\".format(np.mean(percision))\n",
      "        print \"Recall: {0:.5f}\".format(np.mean(recall))\n",
      "        print \"Score on Training: {0:.5f}\".format(np.mean(score_train))\n",
      "        print \"Score on Test: {0:.5f}\".format(np.mean(score_test))"
     ],
     "language": "python",
     "metadata": {},
     "outputs": [],
     "prompt_number": 40
    },
    {
     "cell_type": "code",
     "collapsed": false,
     "input": [
      "training_cols = ['Airtime', 'Distance', 'Temp', 'Dewpoint', 'Pressure', 'Visibility', 'Windspeed',\n",
      "                 'Hour', \n",
      "                 #'Tailnum_del_percent', \n",
      "                 'Flight_Num_del_percent' ]\n"
     ],
     "language": "python",
     "metadata": {},
     "outputs": [],
     "prompt_number": 41
    },
    {
     "cell_type": "code",
     "collapsed": false,
     "input": [
      "clf, xtrain, xtest, ytrain,ytest = run_random_forest(data, training_cols)\n",
      "print \"Score on the training set: {0:.4f}\".format(clf.score(xtrain,ytrain))\n",
      "print \"Score on the test set:     {0:.4f}\".format(clf.score(xtest,ytest))\n",
      "print\n",
      "preds = clf.predict(xtest)\n",
      "pretty_print_results(preds,ytest)"
     ],
     "language": "python",
     "metadata": {},
     "outputs": [
      {
       "output_type": "stream",
       "stream": "stdout",
       "text": [
        "Score on the training set: 0.9886\n"
       ]
      },
      {
       "output_type": "stream",
       "stream": "stdout",
       "text": [
        "Score on the test set:     0.9383\n",
        "\n"
       ]
      },
      {
       "output_type": "stream",
       "stream": "stdout",
       "text": [
        "Recall: 0.0067\n",
        "Precision: 0.1667\n",
        "4 out of 24 predicted delays were correct\n",
        "597 were delayed and not identified\n",
        "in total, there were 601 delays out of 10001 flights\n"
       ]
      },
      {
       "metadata": {},
       "output_type": "pyout",
       "prompt_number": 42,
       "text": [
        "(0.16666666666666666, 0.0066555740432612314)"
       ]
      }
     ],
     "prompt_number": 42
    },
    {
     "cell_type": "code",
     "collapsed": false,
     "input": [
      "# Print the relative importance of training cols\n",
      "cols = training_cols\n",
      "imps = clf.feature_importances_\n",
      "imps, cols = zip(*sorted(zip(imps, cols), reverse=True))\n",
      "\n",
      "print \"Most Important Features\"\n",
      "for i in range(len(imps)):\n",
      "    print \"{0:2}. {1:23} {2:0.5f}\".format(i+1, cols[i], imps[i]) "
     ],
     "language": "python",
     "metadata": {},
     "outputs": [
      {
       "output_type": "stream",
       "stream": "stdout",
       "text": [
        "Most Important Features\n",
        " 1. Flight_Num_del_percent  0.15779\n",
        " 2. Pressure                0.13790\n",
        " 3. Distance                0.13544\n",
        " 4. Airtime                 0.12805\n",
        " 5. Temp                    0.11135\n",
        " 6. Dewpoint                0.10855\n",
        " 7. Windspeed               0.08370\n",
        " 8. Hour                    0.07036\n",
        " 9. Visibility              0.06686\n"
       ]
      }
     ],
     "prompt_number": 43
    },
    {
     "cell_type": "code",
     "collapsed": false,
     "input": [
      "\n",
      "# We tried reimporting the Delay Flight Num percent from 2011 broken up by Airline\n",
      "# But there were too many missing values to make it worth it.\n",
      "df_delay_2011 = pd.read_csv('maindata/percent_Delay_Flight_Num_2011.csv')"
     ],
     "language": "python",
     "metadata": {},
     "outputs": [],
     "prompt_number": 44
    },
    {
     "cell_type": "code",
     "collapsed": false,
     "input": [
      "df_delay_2011.head()"
     ],
     "language": "python",
     "metadata": {},
     "outputs": [
      {
       "html": [
        "<div style=\"max-height:1000px;max-width:1500px;overflow:auto;\">\n",
        "<table border=\"1\" class=\"dataframe\">\n",
        "  <thead>\n",
        "    <tr style=\"text-align: right;\">\n",
        "      <th></th>\n",
        "      <th>Flight_Num</th>\n",
        "      <th>Carrier</th>\n",
        "      <th>Percent_Delayed_2011</th>\n",
        "    </tr>\n",
        "  </thead>\n",
        "  <tbody>\n",
        "    <tr>\n",
        "      <th>0</th>\n",
        "      <td> 1659</td>\n",
        "      <td> US</td>\n",
        "      <td> 0.022989</td>\n",
        "    </tr>\n",
        "    <tr>\n",
        "      <th>1</th>\n",
        "      <td> 1659</td>\n",
        "      <td> FL</td>\n",
        "      <td> 0.028846</td>\n",
        "    </tr>\n",
        "    <tr>\n",
        "      <th>2</th>\n",
        "      <td> 1659</td>\n",
        "      <td> WN</td>\n",
        "      <td> 0.040816</td>\n",
        "    </tr>\n",
        "    <tr>\n",
        "      <th>3</th>\n",
        "      <td> 1659</td>\n",
        "      <td> AA</td>\n",
        "      <td> 0.023560</td>\n",
        "    </tr>\n",
        "    <tr>\n",
        "      <th>4</th>\n",
        "      <td> 1659</td>\n",
        "      <td> AA</td>\n",
        "      <td> 0.159140</td>\n",
        "    </tr>\n",
        "  </tbody>\n",
        "</table>\n",
        "</div>"
       ],
       "metadata": {},
       "output_type": "pyout",
       "prompt_number": 45,
       "text": [
        "   Flight_Num Carrier  Percent_Delayed_2011\n",
        "0        1659      US              0.022989\n",
        "1        1659      FL              0.028846\n",
        "2        1659      WN              0.040816\n",
        "3        1659      AA              0.023560\n",
        "4        1659      AA              0.159140"
       ]
      }
     ],
     "prompt_number": 45
    },
    {
     "cell_type": "code",
     "collapsed": false,
     "input": [
      "mean_fdp = np.mean(df_delay_2011.Percent_Delayed_2011)\n",
      "mean_fdp"
     ],
     "language": "python",
     "metadata": {},
     "outputs": [
      {
       "metadata": {},
       "output_type": "pyout",
       "prompt_number": 46,
       "text": [
        "0.062878167709447153"
       ]
      }
     ],
     "prompt_number": 46
    },
    {
     "cell_type": "markdown",
     "metadata": {},
     "source": [
      "##Determining Number of Recycled Carrier-Flightnumber combos from 2011\n",
      "\n",
      "This is where we had the sad realization that we could not use flight number percentages from 2011 because only two specific routes kept the same carrier - flightnumber combinations between the two years.\n",
      "\n",
      "This is another example of hours of work that come to no fruition .... \n",
      "\n",
      "(the life of a data scientist)"
     ]
    },
    {
     "cell_type": "code",
     "collapsed": false,
     "input": [
      "Flight_Num_del_percent = []\n",
      "for count, row in data.iterrows():\n",
      "    row_fln = row['Flight_Num']\n",
      "    row_car = row['Carrier']\n",
      "    \n",
      "    frame = df_delay_2011[np.logical_and(df_delay_2011.Flight_Num==row_fln, df_delay_2011.Carrier == row_car)] #['Percent_Delayed_2011']\n",
      "    if (len(frame.index) == 0):\n",
      "        Flight_Num_del_percent.append(0)\n",
      "    else:\n",
      "        val = np.array(frame['Percent_Delayed_2011'])[0]\n",
      "        Flight_Num_del_percent.append(val -mean_fdp)\n",
      "    \n",
      "           \n",
      "data['Flight_Num_del_percent'] = Flight_Num_del_percent"
     ],
     "language": "python",
     "metadata": {},
     "outputs": [],
     "prompt_number": 47
    },
    {
     "cell_type": "code",
     "collapsed": false,
     "input": [
      "len(data[np.logical_not(data['Flight_Num_del_percent']==0)])"
     ],
     "language": "python",
     "metadata": {},
     "outputs": [
      {
       "metadata": {},
       "output_type": "pyout",
       "prompt_number": 48,
       "text": [
        "8"
       ]
      }
     ],
     "prompt_number": 48
    },
    {
     "cell_type": "markdown",
     "metadata": {},
     "source": [
      "We found that there were only 8 matched that did not have their flight number renamed. \n",
      "That was when we realized that tailnumber might be are better option. "
     ]
    },
    {
     "cell_type": "code",
     "collapsed": false,
     "input": [
      "Fln_car_data = []\n",
      "Fln_car_2011 = []\n",
      "for count, row in data.iterrows():\n",
      "    Fln_car_data.append(str(row['Flight_Num'])+str(row['Carrier']))\n",
      "for count, row in df_delay_2011.iterrows():\n",
      "    Fln_car_2011.append(str(row['Flight_Num'])+str(row['Carrier']))"
     ],
     "language": "python",
     "metadata": {},
     "outputs": [],
     "prompt_number": 58
    },
    {
     "cell_type": "code",
     "collapsed": false,
     "input": [
      "list(set(Fln_car_data) & set(Fln_car_2011))"
     ],
     "language": "python",
     "metadata": {},
     "outputs": [
      {
       "metadata": {},
       "output_type": "pyout",
       "prompt_number": 61,
       "text": [
        "['1659AA', '1659UA']"
       ]
      }
     ],
     "prompt_number": 61
    },
    {
     "cell_type": "code",
     "collapsed": false,
     "input": [
      "values = []\n",
      "for key, value in Tailnum_to_percent_delay.items():\n",
      "    values.append(value)\n",
      "mean_tailnum_del = float(np.mean(values))\n",
      "\n",
      "print mean_tailnum_del\n",
      "\n",
      "Missing_tailnums = 0\n",
      "\n",
      "Tailnum_Del_percent = []\n",
      "for count, row in data.iterrows():\n",
      "    if row['Tailnum'] in Tailnum_to_percent_delay:\n",
      "        Tailnum_Del_percent.append(Tailnum_to_percent_delay[row['Tailnum']] - mean_tailnum_del)\n",
      "    else:\n",
      "        Tailnum_Del_percent.append(0)\n",
      "        Missing_tailnums += 1        \n",
      "\n",
      "data['Tailnum_del_percent'] = Tailnum_Del_percent\n",
      "#data['Flight_Num_del_percent'] = Flight_Num_del_percent\n",
      "\n",
      "print Missing_tailnums\n",
      "print len(set(data['Tailnum']))"
     ],
     "language": "python",
     "metadata": {},
     "outputs": [
      {
       "output_type": "stream",
       "stream": "stdout",
       "text": [
        "0.0633318830997\n",
        "1078"
       ]
      },
      {
       "output_type": "stream",
       "stream": "stdout",
       "text": [
        "\n",
        "4321\n"
       ]
      }
     ],
     "prompt_number": 50
    },
    {
     "cell_type": "code",
     "collapsed": false,
     "input": [
      "training_cols = ['Airtime', 'Distance', 'Temp', 'Dewpoint', 'Pressure', 'Visibility', 'Windspeed',\n",
      "                 'Hour', \n",
      "                 'Tailnum_del_percent' \n",
      "                 #'Flight_Num_del_percent' \n",
      "                 ]\n"
     ],
     "language": "python",
     "metadata": {},
     "outputs": [],
     "prompt_number": 51
    },
    {
     "cell_type": "code",
     "collapsed": false,
     "input": [
      "clf, xtrain, xtest, ytrain,ytest = run_random_forest(data, training_cols)\n",
      "print \"Score on the training set: {0:.4f}\".format(clf.score(xtrain,ytrain))\n",
      "print \"Score on the test set:     {0:.4f}\".format(clf.score(xtest,ytest))\n",
      "print\n",
      "preds = clf.predict(xtest)\n",
      "pretty_print_results(preds,ytest)"
     ],
     "language": "python",
     "metadata": {},
     "outputs": [
      {
       "output_type": "stream",
       "stream": "stdout",
       "text": [
        "Score on the training set: 0.9874\n"
       ]
      },
      {
       "output_type": "stream",
       "stream": "stdout",
       "text": [
        "Score on the test set:     0.9398\n",
        "\n"
       ]
      },
      {
       "output_type": "stream",
       "stream": "stdout",
       "text": [
        "Recall: 0.0067\n",
        "Precision: 0.2353\n",
        "4 out of 17 predicted delays were correct\n",
        "589 were delayed and not identified\n",
        "in total, there were 593 delays out of 10001 flights\n"
       ]
      },
      {
       "metadata": {},
       "output_type": "pyout",
       "prompt_number": 52,
       "text": [
        "(0.23529411764705882, 0.0067453625632377737)"
       ]
      }
     ],
     "prompt_number": 52
    },
    {
     "cell_type": "markdown",
     "metadata": {},
     "source": [
      "####Deemed Not Great But not a bad Feature\n",
      "This model was not very good. This is an example of one of the leads we persued that was unsucessful. That being said the new feature was deemed the most important feature so we decided to run it with all the features again to see how it preformed "
     ]
    },
    {
     "cell_type": "code",
     "collapsed": false,
     "input": [
      "# Print the relative importance of training cols\n",
      "cols = training_cols\n",
      "imps = clf.feature_importances_\n",
      "imps, cols = zip(*sorted(zip(imps, cols), reverse=True))\n",
      "\n",
      "print \"Most Important Features\"\n",
      "for i in range(len(imps)):\n",
      "    print \"{0:2}. {1:23} {2:0.5f}\".format(i+1, cols[i], imps[i]) "
     ],
     "language": "python",
     "metadata": {},
     "outputs": [
      {
       "output_type": "stream",
       "stream": "stdout",
       "text": [
        "Most Important Features\n",
        " 1. Tailnum_del_percent     0.15886\n",
        " 2. Pressure                0.13513\n",
        " 3. Airtime                 0.13365\n",
        " 4. Distance                0.13221\n",
        " 5. Temp                    0.11247\n",
        " 6. Dewpoint                0.10514\n",
        " 7. Windspeed               0.08202\n",
        " 8. Visibility              0.07132\n",
        " 9. Hour                    0.06921\n"
       ]
      }
     ],
     "prompt_number": 53
    },
    {
     "cell_type": "code",
     "collapsed": false,
     "input": [
      "training_cols = [\n",
      "                 #'DateTime',\n",
      "                 'Airtime',\n",
      "                 #'Carrier_Delay',\n",
      "                 #'Delay_Minutes',\n",
      "                 #'Dest',\n",
      "                 'Distance',\n",
      "                 #'Flight_Num',\n",
      "                 #'Late_Aircraft_Delay',\n",
      "                 #'NAS_Delay',\n",
      "                 #'Security_Delay',\n",
      "                 #'Tailnum',\n",
      "                 #'Weather_Delay',\n",
      "                 'Temp',\n",
      "                 'Dewpoint',\n",
      "                 'Fog',\n",
      "                 'Hail',\n",
      "                 'Precip',\n",
      "                 'Rain',\n",
      "                 'Pressure',\n",
      "                 'Snow',\n",
      "                 'Thunder',\n",
      "                 #'Tornado',\n",
      "                 'Visibility',\n",
      "                 'Windspeed',\n",
      "                 #'Delayed',\n",
      "                 'dum_Origin_ATL',\n",
      "                 'dum_Origin_BOS',\n",
      "                 'dum_Origin_CLT',\n",
      "                 'dum_Origin_DEN',\n",
      "                 'dum_Origin_DFW',\n",
      "                 'dum_Origin_DTW',\n",
      "                 'dum_Origin_EWR',\n",
      "                 'dum_Origin_IAH',\n",
      "                 'dum_Origin_JFK',\n",
      "                 'dum_Origin_LAS',\n",
      "                 'dum_Origin_LAX',\n",
      "                 'dum_Origin_LGA',\n",
      "                 'dum_Origin_MCO',\n",
      "                 'dum_Origin_MIA',\n",
      "                 'dum_Origin_MSP',\n",
      "                 'dum_Origin_ORD',\n",
      "                 'dum_Origin_PHL',\n",
      "                 'dum_Origin_PHX',\n",
      "                 'dum_Origin_SEA',\n",
      "                 'dum_Origin_SFO',\n",
      "                 'dum_Day_of_week_1',\n",
      "                 'dum_Day_of_week_2',\n",
      "                 'dum_Day_of_week_3',\n",
      "                 'dum_Day_of_week_4',\n",
      "                 'dum_Day_of_week_5',\n",
      "                 'dum_Day_of_week_6',\n",
      "                 'dum_Day_of_week_7',\n",
      "                 'dum_Carrier_AA',\n",
      "                 'dum_Carrier_AS',\n",
      "                 'dum_Carrier_B6',\n",
      "                 'dum_Carrier_DL',\n",
      "                 'dum_Carrier_EV',\n",
      "                 'dum_Carrier_F9',\n",
      "                 'dum_Carrier_FL',\n",
      "                 'dum_Carrier_HA',\n",
      "                 'dum_Carrier_MQ',\n",
      "                 'dum_Carrier_OO',\n",
      "                 'dum_Carrier_UA',\n",
      "                 'dum_Carrier_US',\n",
      "                 'dum_Carrier_VX',\n",
      "                 'dum_Carrier_WN',\n",
      "                 'dum_Carrier_YV',\n",
      "                 'Hour',\n",
      "                 'Tailnum_del_percent'\n",
      "                 ]"
     ],
     "language": "python",
     "metadata": {},
     "outputs": [],
     "prompt_number": 54
    },
    {
     "cell_type": "code",
     "collapsed": false,
     "input": [
      "clf, xtrain, xtest, ytrain,ytest = run_random_forest(data, training_cols, trees=10)\n",
      "print \"Score on the training set: {0:.4f}\".format(clf.score(xtrain,ytrain))\n",
      "print \"Score on the test set:     {0:.4f}\".format(clf.score(xtest,ytest))\n",
      "print\n",
      "preds = clf.predict(xtest)\n",
      "pretty_print_results(preds,ytest)\n",
      "pass"
     ],
     "language": "python",
     "metadata": {},
     "outputs": [
      {
       "output_type": "stream",
       "stream": "stdout",
       "text": [
        "Score on the training set: 0.9868\n"
       ]
      },
      {
       "output_type": "stream",
       "stream": "stdout",
       "text": [
        "Score on the test set:     0.9424\n",
        "\n"
       ]
      },
      {
       "output_type": "stream",
       "stream": "stdout",
       "text": [
        "Recall: 0.0173\n",
        "Precision: 0.5263\n",
        "10 out of 19 predicted delays were correct\n",
        "567 were delayed and not identified\n",
        "in total, there were 577 delays out of 10001 flights\n"
       ]
      }
     ],
     "prompt_number": 55
    },
    {
     "cell_type": "markdown",
     "metadata": {},
     "source": [
      "####One of our better models!\n",
      "This turned out to be one of our better models. Using the Tailnumber delay percentage from 2011 turned out to be a reasonable factor in the model. This may be because specific models of airplane are more likely to be delayed. If we had more time we would have persued a feature that would be specifically the model of the airplane which may be an even better indicator. "
     ]
    },
    {
     "cell_type": "code",
     "collapsed": false,
     "input": [
      "# Print the relative importance of training cols\n",
      "cols = training_cols\n",
      "imps = clf.feature_importances_\n",
      "imps, cols = zip(*sorted(zip(imps, cols), reverse=True))\n",
      "\n",
      "print \"Most Important Features\"\n",
      "for i in range(len(imps)):\n",
      "    print \"{0:2}. {1:23} {2:0.5f}\".format(i+1, cols[i], imps[i]) "
     ],
     "language": "python",
     "metadata": {},
     "outputs": [
      {
       "output_type": "stream",
       "stream": "stdout",
       "text": [
        "Most Important Features\n",
        " 1. Tailnum_del_percent     0.10796\n",
        " 2. Airtime                 0.09920\n",
        " 3. Pressure                0.09318\n",
        " 4. Distance                0.09042\n",
        " 5. Temp                    0.08990\n",
        " 6. Dewpoint                0.07991\n",
        " 7. Windspeed               0.06611\n",
        " 8. Hour                    0.06065\n",
        " 9. Visibility              0.04405\n",
        "10. dum_Day_of_week_5       0.01321\n",
        "11. dum_Day_of_week_4       0.01220\n",
        "12. Precip                  0.01212\n",
        "13. dum_Day_of_week_7       0.01074\n",
        "14. dum_Day_of_week_1       0.01070\n",
        "15. dum_Carrier_AA          0.00924\n",
        "16. Rain                    0.00900\n",
        "17. dum_Origin_ORD          0.00892\n",
        "18. dum_Day_of_week_3       0.00879\n",
        "19. dum_Day_of_week_2       0.00878\n",
        "20. dum_Day_of_week_6       0.00841\n",
        "21. Thunder                 0.00745\n",
        "22. dum_Origin_ATL          0.00712\n",
        "23. dum_Origin_DFW          0.00708\n",
        "24. dum_Origin_SFO          0.00698\n",
        "25. Fog                     0.00696\n",
        "26. dum_Carrier_OO          0.00689\n",
        "27. dum_Carrier_UA          0.00686\n",
        "28. dum_Carrier_MQ          0.00675\n",
        "29. dum_Carrier_EV          0.00667\n",
        "30. dum_Carrier_WN          0.00648\n",
        "31. dum_Carrier_DL          0.00642\n",
        "32. dum_Origin_LAX          0.00594\n",
        "33. dum_Origin_IAH          0.00572\n",
        "34. Snow                    0.00546\n",
        "35. dum_Origin_EWR          0.00444\n",
        "36. dum_Carrier_B6          0.00413\n",
        "37. dum_Origin_DEN          0.00404\n",
        "38. dum_Origin_CLT          0.00389\n",
        "39. dum_Origin_MCO          0.00360\n",
        "40. dum_Carrier_US          0.00356\n",
        "41. dum_Origin_BOS          0.00343\n",
        "42. dum_Origin_PHL          0.00337\n",
        "43. dum_Origin_MSP          0.00311\n",
        "44. dum_Carrier_F9          0.00307\n",
        "45. dum_Origin_LAS          0.00306\n",
        "46. dum_Origin_DTW          0.00304\n",
        "47. dum_Carrier_AS          0.00279\n",
        "48. dum_Origin_MIA          0.00264\n",
        "49. dum_Carrier_FL          0.00253\n",
        "50. dum_Origin_JFK          0.00249\n",
        "51. dum_Origin_PHX          0.00247\n",
        "52. dum_Carrier_VX          0.00229\n",
        "53. dum_Origin_LGA          0.00227\n",
        "54. dum_Origin_SEA          0.00214\n",
        "55. dum_Carrier_YV          0.00082\n",
        "56. Hail                    0.00056\n",
        "57. dum_Carrier_HA          0.00000\n"
       ]
      }
     ],
     "prompt_number": 56
    },
    {
     "cell_type": "markdown",
     "metadata": {},
     "source": [
      "#Running on the Full 2012 Data"
     ]
    },
    {
     "cell_type": "code",
     "collapsed": false,
     "input": [
      "big_df = pd.read_csv('../../../../Dropbox/Project/maindata/fulldf.csv')"
     ],
     "language": "python",
     "metadata": {},
     "outputs": [],
     "prompt_number": 9
    },
    {
     "cell_type": "code",
     "collapsed": false,
     "input": [
      "DELAY_THRESHOLD = 15.\n",
      "\n",
      "big_df.NAS_Delay.fillna(2000, inplace=True)     # Only nan when Canceled or Delay_Minutes == 0\n",
      "big_df.Weather_Delay.fillna(2000, inplace=True) # Only nan when Canceled or not delayed\n",
      "big_df.Delay_Minutes.fillna(2000, inplace=True) # These are canceled flights which we want to cound as \n",
      "big_df['Delayed'] = (((big_df['NAS_Delay'] > 0) | \n",
      "                  (big_df['Weather_Delay'] > 0)) & \n",
      "                 (big_df['Delay_Minutes'] > DELAY_THRESHOLD))*1\n",
      "print \"Number delays relating to weather:\", sum(big_df['Delayed'])\n",
      "\n",
      "\n",
      "\n",
      "to_center = ['Temp', 'Dewpoint', 'Precip', 'Pressure', 'Visibility', 'Windspeed']\n",
      "for col in to_center:\n",
      "    big_df[col] = (big_df[col] - big_df[col].mean())\n",
      "    \n",
      "big_df.rename(columns={'Dep_hour': 'Hour'}, inplace=True)"
     ],
     "language": "python",
     "metadata": {},
     "outputs": [
      {
       "output_type": "stream",
       "stream": "stdout",
       "text": [
        "Number delays relating to weather: "
       ]
      },
      {
       "output_type": "stream",
       "stream": "stdout",
       "text": [
        "343353\n"
       ]
      }
     ],
     "prompt_number": 10
    },
    {
     "cell_type": "code",
     "collapsed": false,
     "input": [
      "training_cols = [\n",
      "                 #'DateTime',\n",
      "                 'Airtime',\n",
      "                 #'Carrier_Delay',\n",
      "                 #'Delay_Minutes',\n",
      "                 #'Dest',\n",
      "                 'Distance',\n",
      "                 #'Flight_Num',\n",
      "                 #'Late_Aircraft_Delay',\n",
      "                 #'NAS_Delay',\n",
      "                 #'Security_Delay',\n",
      "                 #'Tailnum',\n",
      "                 #'Weather_Delay',\n",
      "                 'Temp',\n",
      "                 'Dewpoint',\n",
      "                 'Fog',\n",
      "                 'Hail',\n",
      "                 'Precip',\n",
      "                 'Rain',\n",
      "                 'Pressure',\n",
      "                 'Snow',\n",
      "                 'Thunder',\n",
      "                 'Tornado',\n",
      "                 'Visibility',\n",
      "                 'Windspeed',\n",
      "                 #'Delayed',\n",
      "                 'Hour'\n",
      "                 ]\n",
      "\n",
      "predict_col = ['Delayed']"
     ],
     "language": "python",
     "metadata": {},
     "outputs": [],
     "prompt_number": 11
    },
    {
     "cell_type": "code",
     "collapsed": false,
     "input": [
      "for col in training_cols:\n",
      "    big_df = big_df[np.logical_not(np.isnan(big_df[col]))]\n",
      "# In other notebooks we have checked that this only drops a small percentage of the datapoints"
     ],
     "language": "python",
     "metadata": {},
     "outputs": [],
     "prompt_number": 12
    },
    {
     "cell_type": "code",
     "collapsed": false,
     "input": [
      "clf, xtrain, xtest, ytrain,ytest = run_random_forest(big_df, training_cols)"
     ],
     "language": "python",
     "metadata": {},
     "outputs": [],
     "prompt_number": 14
    },
    {
     "cell_type": "code",
     "collapsed": false,
     "input": [
      "print \"Score on the training set: {0:.4f}\".format(clf.score(xtrain,ytrain))\n",
      "print \"Score on the test set:     {0:.4f}\".format(clf.score(xtest,ytest))\n",
      "print\n",
      "preds = clf.predict(xtest)\n",
      "pretty_print_results(preds,ytest)"
     ],
     "language": "python",
     "metadata": {},
     "outputs": [
      {
       "output_type": "stream",
       "stream": "stdout",
       "text": [
        "Score on the training set: 0.9821\n"
       ]
      },
      {
       "output_type": "stream",
       "stream": "stdout",
       "text": [
        "Score on the test set:     0.8964\n",
        "\n"
       ]
      },
      {
       "output_type": "stream",
       "stream": "stdout",
       "text": [
        "Recall: 0.1094\n",
        "Precision: 0.3458\n",
        "10354 out of 29940 predicted delays were correct"
       ]
      },
      {
       "output_type": "stream",
       "stream": "stdout",
       "text": [
        "\n",
        "84262 were delayed and not identified\n",
        "in total, there were 94616 delays out of 1002370 flights"
       ]
      },
      {
       "output_type": "stream",
       "stream": "stdout",
       "text": [
        "\n"
       ]
      },
      {
       "metadata": {},
       "output_type": "pyout",
       "prompt_number": 17,
       "text": [
        "(0.34582498329993322, 0.10943180857360277)"
       ]
      }
     ],
     "prompt_number": 17
    },
    {
     "cell_type": "code",
     "collapsed": false,
     "input": [
      "# Print the relative importance of training cols\n",
      "cols = training_cols\n",
      "imps = clf.feature_importances_\n",
      "imps, cols = zip(*sorted(zip(imps, cols), reverse=True))\n",
      "\n",
      "print \"Most Important Features\"\n",
      "for i in range(len(imps)):\n",
      "    print \"{0:2}. {1:19} {2:0.5f}\".format(i+1, cols[i], imps[i])  "
     ],
     "language": "python",
     "metadata": {},
     "outputs": [
      {
       "output_type": "stream",
       "stream": "stdout",
       "text": [
        "Most Important Features\n",
        " 1. Airtime             0.26006\n",
        " 2. Distance            0.24638\n",
        " 3. Pressure            0.12061\n",
        " 4. Temp                0.09132\n",
        " 5. Dewpoint            0.09074\n",
        " 6. Windspeed           0.06620\n",
        " 7. Hour                0.06205\n",
        " 8. Visibility          0.03961\n",
        " 9. Precip              0.00715\n",
        "10. Thunder             0.00514\n",
        "11. Rain                0.00459\n",
        "12. Fog                 0.00351\n",
        "13. Snow                0.00219\n",
        "14. Hail                0.00040\n",
        "15. Tornado             0.00005\n"
       ]
      }
     ],
     "prompt_number": 18
    }
   ],
   "metadata": {}
  }
 ]
}