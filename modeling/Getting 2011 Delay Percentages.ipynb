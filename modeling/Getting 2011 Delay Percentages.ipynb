{
 "metadata": {
  "name": ""
 },
 "nbformat": 3,
 "nbformat_minor": 0,
 "worksheets": [
  {
   "cells": [
    {
     "cell_type": "markdown",
     "metadata": {},
     "source": [
      "#Getting Delay Percentages\n",
      "\n",
      "This is the notebook in which we loaded all the flights from 2011 and calculated what percentage of flights were delayed for a given flight number and a given tailnumber (separately). These values were then written to a CSV to be imported into the Random Forest file to use as a feature for flights on 2012. \n",
      "\n",
      "Of the notebooks in our project this is not one of the more important ones. This book is different enough from what we did in the others that we decided to include it for completeness. \n"
     ]
    },
    {
     "cell_type": "code",
     "collapsed": false,
     "input": [
      "%matplotlib inline\n",
      "from collections import defaultdict\n",
      "import numpy as np\n",
      "import matplotlib.pyplot as plt\n",
      "import pandas as pd\n",
      "import random\n",
      "import datetime"
     ],
     "language": "python",
     "metadata": {},
     "outputs": [],
     "prompt_number": 1
    },
    {
     "cell_type": "code",
     "collapsed": false,
     "input": [
      "# Load all 2011 flights\n",
      "df = pd.read_csv('maindata/delay_percents_2011.csv')"
     ],
     "language": "python",
     "metadata": {},
     "outputs": [],
     "prompt_number": 43
    },
    {
     "cell_type": "code",
     "collapsed": false,
     "input": [
      "# Rename the columns \n",
      "print df.columns\n",
      "df.rename(columns={'CARRIER': 'Carrier', 'TAIL_NUM': 'Tailnum', 'FL_NUM':'Flight_Num',\n",
      "                   'NAS_DELAY':'NAS_Delay', 'WEATHER_DELAY':'Weather_Delay',\n",
      "                   'DEP_DELAY_NEW':'Delay_Minutes'}, inplace=True)\n",
      "df.columns"
     ],
     "language": "python",
     "metadata": {},
     "outputs": [
      {
       "output_type": "stream",
       "stream": "stdout",
       "text": [
        "Index([u'CARRIER', u'TAIL_NUM', u'FL_NUM', u'DEP_DELAY_NEW', u'CARRIER_DELAY', u'WEATHER_DELAY', u'NAS_DELAY', u'SECURITY_DELAY', u'LATE_AIRCRAFT_DELAY', u'Unnamed: 9'], dtype=object)\n"
       ]
      },
      {
       "metadata": {},
       "output_type": "pyout",
       "prompt_number": 44,
       "text": [
        "Index([u'Carrier', u'Tailnum', u'Flight_Num', u'Delay_Minutes', u'CARRIER_DELAY', u'Weather_Delay', u'NAS_Delay', u'SECURITY_DELAY', u'LATE_AIRCRAFT_DELAY', u'Unnamed: 9'], dtype=object)"
       ]
      }
     ],
     "prompt_number": 44
    },
    {
     "cell_type": "code",
     "collapsed": false,
     "input": [
      "#df = df.drop('Unnamed: 9',1)\n",
      "DELAY_THRESHOLD = 15.\n",
      "\n",
      "df.NAS_Delay.fillna(0, inplace=True)\n",
      "df.Weather_Delay.fillna(0, inplace=True)\n",
      "df['Delayed'] = (((df['NAS_Delay'] > 0) | \n",
      "                  (df['Weather_Delay'] > 0)) & \n",
      "                 (df['Delay_Minutes'] > DELAY_THRESHOLD))*1\n",
      "print \"Number delays relating to weather:\", sum(df['Delayed'])\n"
     ],
     "language": "python",
     "metadata": {},
     "outputs": [
      {
       "output_type": "stream",
       "stream": "stdout",
       "text": [
        "Number delays relating to weather: "
       ]
      },
      {
       "output_type": "stream",
       "stream": "stdout",
       "text": [
        "393019\n"
       ]
      }
     ],
     "prompt_number": 47
    },
    {
     "cell_type": "code",
     "collapsed": false,
     "input": [
      "df.head()"
     ],
     "language": "python",
     "metadata": {},
     "outputs": [
      {
       "html": [
        "<div style=\"max-height:1000px;max-width:1500px;overflow:auto;\">\n",
        "<table border=\"1\" class=\"dataframe\">\n",
        "  <thead>\n",
        "    <tr style=\"text-align: right;\">\n",
        "      <th></th>\n",
        "      <th>Carrier</th>\n",
        "      <th>Tailnum</th>\n",
        "      <th>Flight_Num</th>\n",
        "      <th>Delay_Minutes</th>\n",
        "      <th>CARRIER_DELAY</th>\n",
        "      <th>Weather_Delay</th>\n",
        "      <th>NAS_Delay</th>\n",
        "      <th>SECURITY_DELAY</th>\n",
        "      <th>LATE_AIRCRAFT_DELAY</th>\n",
        "      <th>Delayed</th>\n",
        "    </tr>\n",
        "  </thead>\n",
        "  <tbody>\n",
        "    <tr>\n",
        "      <th>0</th>\n",
        "      <td> AA</td>\n",
        "      <td> N328AA</td>\n",
        "      <td> 1</td>\n",
        "      <td> 0</td>\n",
        "      <td>  0</td>\n",
        "      <td> 0</td>\n",
        "      <td> 32</td>\n",
        "      <td>  0</td>\n",
        "      <td>  0</td>\n",
        "      <td> 0</td>\n",
        "    </tr>\n",
        "    <tr>\n",
        "      <th>1</th>\n",
        "      <td> AA</td>\n",
        "      <td> N324AA</td>\n",
        "      <td> 1</td>\n",
        "      <td> 0</td>\n",
        "      <td>  0</td>\n",
        "      <td> 0</td>\n",
        "      <td> 17</td>\n",
        "      <td>  0</td>\n",
        "      <td>  0</td>\n",
        "      <td> 0</td>\n",
        "    </tr>\n",
        "    <tr>\n",
        "      <th>2</th>\n",
        "      <td> AA</td>\n",
        "      <td> N322AA</td>\n",
        "      <td> 1</td>\n",
        "      <td> 0</td>\n",
        "      <td>NaN</td>\n",
        "      <td> 0</td>\n",
        "      <td>  0</td>\n",
        "      <td>NaN</td>\n",
        "      <td>NaN</td>\n",
        "      <td> 0</td>\n",
        "    </tr>\n",
        "    <tr>\n",
        "      <th>3</th>\n",
        "      <td> AA</td>\n",
        "      <td> N329AA</td>\n",
        "      <td> 1</td>\n",
        "      <td> 0</td>\n",
        "      <td>NaN</td>\n",
        "      <td> 0</td>\n",
        "      <td>  0</td>\n",
        "      <td>NaN</td>\n",
        "      <td>NaN</td>\n",
        "      <td> 0</td>\n",
        "    </tr>\n",
        "    <tr>\n",
        "      <th>4</th>\n",
        "      <td> AA</td>\n",
        "      <td> N336AA</td>\n",
        "      <td> 1</td>\n",
        "      <td> 0</td>\n",
        "      <td>NaN</td>\n",
        "      <td> 0</td>\n",
        "      <td>  0</td>\n",
        "      <td>NaN</td>\n",
        "      <td>NaN</td>\n",
        "      <td> 0</td>\n",
        "    </tr>\n",
        "  </tbody>\n",
        "</table>\n",
        "</div>"
       ],
       "metadata": {},
       "output_type": "pyout",
       "prompt_number": 48,
       "text": [
        "  Carrier Tailnum  Flight_Num  Delay_Minutes  CARRIER_DELAY  Weather_Delay  \\\n",
        "0      AA  N328AA           1              0              0              0   \n",
        "1      AA  N324AA           1              0              0              0   \n",
        "2      AA  N322AA           1              0            NaN              0   \n",
        "3      AA  N329AA           1              0            NaN              0   \n",
        "4      AA  N336AA           1              0            NaN              0   \n",
        "\n",
        "   NAS_Delay  SECURITY_DELAY  LATE_AIRCRAFT_DELAY  Delayed  \n",
        "0         32               0                    0        0  \n",
        "1         17               0                    0        0  \n",
        "2          0             NaN                  NaN        0  \n",
        "3          0             NaN                  NaN        0  \n",
        "4          0             NaN                  NaN        0  "
       ]
      }
     ],
     "prompt_number": 48
    },
    {
     "cell_type": "code",
     "collapsed": false,
     "input": [
      "print len(set(df.Tailnum))\n",
      "print len(set(df.Flight_Num))\n",
      "print len(df.index)\n"
     ],
     "language": "python",
     "metadata": {},
     "outputs": [
      {
       "output_type": "stream",
       "stream": "stdout",
       "text": [
        "4632\n",
        "7268"
       ]
      },
      {
       "output_type": "stream",
       "stream": "stdout",
       "text": [
        "\n",
        "6507998\n"
       ]
      }
     ],
     "prompt_number": 49
    },
    {
     "cell_type": "code",
     "collapsed": false,
     "input": [
      "data = df\n",
      "# lets calculate the ontime percentage for each Flight num and tailnum and add those to the dataframe. \n",
      "percent_Delay_Tailnum = {}\n",
      "group_tailnum = data.groupby('Tailnum')\n",
      "for key, value in group_tailnum:\n",
      "    percent_Delay_Tailnum[key]=float(sum(value.Delayed))/float(len(value.index))\n",
      "\n",
      "print percent_Delay_Tailnum\n",
      "\n",
      "percent_Delay_Flight_Num = {}\n",
      "group_flight_num = data.groupby('Flight_Num')\n",
      "for key, value in group_flight_num:\n",
      "    percent_Delay_Flight_Num[key]=float(sum(value.Delayed))/float(len(value.index))\n",
      "\n",
      "print percent_Delay_Flight_Num\n",
      "\n",
      "#Tailnum_Del_percent = []\n",
      "#Flight_Num_del_percent = []\n",
      "#for count, row in data.iterrows():\n",
      "#    Tailnum_Del_percent.append(percent_Delay_Tailnum[row['Tailnum']])\n",
      "#    Flight_Num_del_percent.append(percent_Delay_Flight_Num[row['Flight_Num']])\n",
      "\n",
      "#data['Tailnum_del_percent'] = Tailnum_Del_percent\n",
      "#data['Flight_Num_del_percent'] = Flight_Num_del_percent"
     ],
     "language": "python",
     "metadata": {},
     "outputs": []
    },
    {
     "cell_type": "code",
     "collapsed": false,
     "input": [
      "import csv\n",
      "\n",
      "writer = csv.writer(open('maindata/percent_Delay_Flight_Num_2011.csv', 'wb'))\n",
      "#writer.writerow(['Flight_Num','Percent_Delayed_2011'])\n",
      "for key, value in percent_Delay_Flight_Num.items():\n",
      "   writer.writerow([key, value])"
     ],
     "language": "python",
     "metadata": {},
     "outputs": [],
     "prompt_number": 23
    },
    {
     "cell_type": "code",
     "collapsed": false,
     "input": [
      "writer = csv.writer(open('maindata/percent_Delay_Tailnum_2011.csv', 'wb'))\n",
      "#writer.writerow(['Tailnumber','Percent_Delayed_2011'])\n",
      "for key, value in percent_Delay_Tailnum.items():\n",
      "   writer.writerow([key, value])"
     ],
     "language": "python",
     "metadata": {},
     "outputs": [],
     "prompt_number": 24
    },
    {
     "cell_type": "markdown",
     "metadata": {},
     "source": [
      "We then discovered that flight numbers were only unique when combined with the Carrier. So we redid the outputs to account for that."
     ]
    },
    {
     "cell_type": "code",
     "collapsed": false,
     "input": [
      "# Confirming our suspicion that there was a problem.\n",
      "flightnums_with_multiple_carriers = []\n",
      "flight_num_groups = data.groupby('Flight_Num')\n",
      "for key,value in flight_num_groups:\n",
      "    num = len(set(value['Carrier']))\n",
      "    if num!=1:\n",
      "        flightnums_with_multiple_carriers.append(key)\n"
     ],
     "language": "python",
     "metadata": {},
     "outputs": [],
     "prompt_number": 26
    },
    {
     "cell_type": "code",
     "collapsed": false,
     "input": [
      "percent_Delay_Flight_Num = {}\n",
      "group_flight_num = data.groupby('Flight_Num')\n",
      "for key, value in group_flight_num:\n",
      "    group_carrier = value.groupby('Carrier')\n",
      "    for key2, value2 in group_carrier:\n",
      "        percent_Delay_Flight_Num[(key,key2)]=float(sum(value2.Delayed))/float(len(value2.index))\n",
      "\n",
      "#print percent_Delay_Flight_Num"
     ],
     "language": "python",
     "metadata": {},
     "outputs": [],
     "prompt_number": 42
    },
    {
     "cell_type": "code",
     "collapsed": false,
     "input": [
      "# Writing the improved percent_Delay_Flight file that included the flightnumber and carrier.\n",
      "writer = csv.writer(open('maindata/percent_Delay_Flight_Num_2011.csv', 'wb'))\n",
      "writer.writerow(['Flight_Num','Carrier','Percent_Delayed_2011'])\n",
      "for key, value in percent_Delay_Flight_Num.items():\n",
      "    flightnum,airline = key\n",
      "    writer.writerow([flight_num,airline, value])"
     ],
     "language": "python",
     "metadata": {},
     "outputs": [],
     "prompt_number": 41
    }
   ],
   "metadata": {}
  }
 ]
}