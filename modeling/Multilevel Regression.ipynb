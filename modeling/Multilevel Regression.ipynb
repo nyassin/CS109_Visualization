{
 "metadata": {
  "name": ""
 },
 "nbformat": 3,
 "nbformat_minor": 0,
 "worksheets": [
  {
   "cells": [
    {
     "cell_type": "code",
     "collapsed": false,
     "input": [
      "%matplotlib inline\n",
      "import numpy as np\n",
      "import scipy.stats\n",
      "import pandas as pd\n",
      "import matplotlib.pyplot as plt\n",
      "\n",
      "from matplotlib import rcParams\n",
      "import matplotlib.cm as cm\n",
      "import matplotlib as mpl\n",
      "\n",
      "#colorbrewer2 Dark2 qualitative color table\n",
      "dark2_colors = [(0.10588235294117647, 0.6196078431372549, 0.4666666666666667),\n",
      "                (0.8509803921568627, 0.37254901960784315, 0.00784313725490196),\n",
      "                (0.4588235294117647, 0.4392156862745098, 0.7019607843137254),\n",
      "                (0.9058823529411765, 0.1607843137254902, 0.5411764705882353),\n",
      "                (0.4, 0.6509803921568628, 0.11764705882352941),\n",
      "                (0.9019607843137255, 0.6705882352941176, 0.00784313725490196),\n",
      "                (0.6509803921568628, 0.4627450980392157, 0.11372549019607843)]\n",
      "\n",
      "rcParams['figure.figsize'] = (10, 6)\n",
      "rcParams['figure.dpi'] = 150\n",
      "rcParams['axes.color_cycle'] = dark2_colors\n",
      "rcParams['lines.linewidth'] = 2\n",
      "rcParams['axes.facecolor'] = 'white'\n",
      "rcParams['font.size'] = 14\n",
      "rcParams['patch.edgecolor'] = 'white'\n",
      "rcParams['patch.facecolor'] = dark2_colors[0]\n",
      "rcParams['font.family'] = 'StixGeneral'\n",
      "\n",
      "\n",
      "def remove_border(axes=None, top=False, right=False, left=True, bottom=True):\n",
      "    \"\"\"\n",
      "    Minimize chartjunk by stripping out unnecesasry plot borders and axis ticks\n",
      "    \n",
      "    The top/right/left/bottom keywords toggle whether the corresponding plot border is drawn\n",
      "    \"\"\"\n",
      "    ax = axes or plt.gca()\n",
      "    ax.spines['top'].set_visible(top)\n",
      "    ax.spines['right'].set_visible(right)\n",
      "    ax.spines['left'].set_visible(left)\n",
      "    ax.spines['bottom'].set_visible(bottom)\n",
      "    \n",
      "    #turn off all ticks\n",
      "    ax.yaxis.set_ticks_position('none')\n",
      "    ax.xaxis.set_ticks_position('none')\n",
      "    \n",
      "    #now re-enable visibles\n",
      "    if top:\n",
      "        ax.xaxis.tick_top()\n",
      "    if bottom:\n",
      "        ax.xaxis.tick_bottom()\n",
      "    if left:\n",
      "        ax.yaxis.tick_left()\n",
      "    if right:\n",
      "        ax.yaxis.tick_right()\n",
      "        \n",
      "pd.set_option('display.width', 500)\n",
      "pd.set_option('display.max_columns', 100)"
     ],
     "language": "python",
     "metadata": {},
     "outputs": [],
     "prompt_number": 146
    },
    {
     "cell_type": "code",
     "collapsed": false,
     "input": [
      "df_file = 'maindata/smalldf.csv'\n",
      "df = pd.read_csv(df_file)\n",
      "print df.columns\n",
      "print len(df)"
     ],
     "language": "python",
     "metadata": {},
     "outputs": [
      {
       "output_type": "stream",
       "stream": "stdout",
       "text": [
        "Index([u'Airtime', u'Carrier', u'Carrier_Delay', u'Day_of_week', u'Delay_Minutes', u'Dest', u'Distance', u'Date', u'Flight_Num', u'Late_Aircraft_Delay', u'NAS_Delay', u'Origin', u'Security_Delay', u'Tailnum', u'Weather_Delay', u'Temp', u'Dewpoint', u'Fog', u'Hail', u'Precip', u'Rain', u'Pressure', u'Snow', u'Thunder', u'Tornado', u'Visibility', u'Windspeed', u'Dep_hour'], dtype=object)\n",
        "32420\n"
       ]
      }
     ],
     "prompt_number": 2
    },
    {
     "cell_type": "code",
     "collapsed": false,
     "input": [
      "# center some of the continuous variable columns\n",
      "to_center = ['Temp', 'Dewpoint', 'Precip', 'Pressure', 'Visibility', 'Windspeed']\n",
      "for col in to_center:\n",
      "    df[col] = (df[col] - df[col].mean())\n",
      "print df[to_center[1]].head()\n",
      "stats"
     ],
     "language": "python",
     "metadata": {},
     "outputs": [
      {
       "output_type": "stream",
       "stream": "stdout",
       "text": [
        "0    -0.980684\n",
        "1    17.319316\n",
        "2     2.919316\n",
        "3   -17.080684\n",
        "4    10.119316\n",
        "Name: Dewpoint, dtype: float64\n"
       ]
      }
     ],
     "prompt_number": 3
    },
    {
     "cell_type": "code",
     "collapsed": false,
     "input": [
      "# turn delay into binary by labelling delays above a certain threshold as delayed\n",
      "DELAY_THRESHOLD = 15.\n",
      "\n",
      "df['Delayed'] = (df['Delay_Minutes'] > DELAY_THRESHOLD)*1\n",
      "print 'Number of delayed flights:', sum(df['Delayed'])\n",
      "print 'Total flights:', len(df)"
     ],
     "language": "python",
     "metadata": {},
     "outputs": [
      {
       "output_type": "stream",
       "stream": "stdout",
       "text": [
        "Number of delayed flights: 5423\n",
        "Total flights: 32420\n"
       ]
      }
     ],
     "prompt_number": 4
    },
    {
     "cell_type": "code",
     "collapsed": false,
     "input": [
      "\"\"\"\n",
      "Function proposal_draw\n",
      "-------------------------\n",
      "Makes draws from the proposal distribution, which\n",
      "is the likelihood function for logistic regression.\n",
      "These are used to update the MCMC as per the Metropolis-\n",
      "Hastings algorithm\n",
      "\n",
      "PARAMETERS:\n",
      "x - 1D vector of features/predictors\n",
      "y - 1D vector of observed results \n",
      "beta - 1D vector containing most recent parameter estimates\n",
      "sigma_prior - variance to be used for diffuse normal prior\n",
      "\n",
      "RETURNS:\n",
      "gbeta - g(beta), where g(beta) = p(beta)*l(beta), the product of \n",
      "the prior and likelihood functions. g(beta_i)/g(beta_i-1) is the \n",
      "proposal probability alpha\n",
      "\"\"\"\n",
      "\n",
      "def proposal_draw(x, y, beta, sigma_prior):\n",
      "    \n",
      "    # logistic function\n",
      "    logit = lambda r: np.log(np.exp(r)/(1+np.exp(r)))\n",
      "    # log likelihoods\n",
      "    predictor = np.dot(x, beta)\n",
      "    loglik = sum(y*logit(predictor) + \n",
      "                (1-y)*logit(predictor))\n",
      "    # prior--MVN created by multiplying a bunch of univariate normals \n",
      "    # (since cov matrix is estimated as diagonal)\n",
      "    prior = np.prod(stats.norm(0, sigma_prior).pdf(beta))\n",
      "    return loglik * prior"
     ],
     "language": "python",
     "metadata": {},
     "outputs": [],
     "prompt_number": 160
    },
    {
     "cell_type": "code",
     "collapsed": false,
     "input": [
      "\"\"\"\n",
      "Function mcmc_params\n",
      "-----------------\n",
      "Uses the Metropolis-Hastings algorithm to draw from the join\n",
      "posterior distribution of the parameters.\n",
      "\n",
      "I-num airports\n",
      "J-num airlines\n",
      "M-num parameters\n",
      "\n",
      "PARAMETERS:\n",
      "Ntrials: number of iterations\n",
      "data: the dataframe\n",
      "sigma: Ix1 of intra-airport variance\n",
      "\"\"\"\n",
      "def mcmc_params(Ntrials):\n",
      "\n",
      "    # test data\n",
      "    beta0 = [0,0]\n",
      "    sigma = 0.1\n",
      "    sig_prior = 10\n",
      "    obs_data = np.array([[1,1],[1,1],[1,1],[1,1],[1,1],\n",
      "                         [1,2],[1,2],[1,2],[1,2],[1,2],\n",
      "                         [2,1],[2,1],[2,1],[2,1],[2,1],\n",
      "                         [2,2], [2,2], [2,2], [2,2], [2,2]])\n",
      "    obs_outcomes = np.array([0,1,1,0,0,\n",
      "                             0,0,0,0,0,\n",
      "                             1,1,0,1,1,\n",
      "                             1,0,0,0,0])\n",
      "    \n",
      "    # initialize betas array; each column is the estimate parameters of one trial\n",
      "    betas = np.zeros([len(beta0), Ntrials])\n",
      "    betas[:,0] = beta0\n",
      "    \n",
      "\n",
      "    # the bulk of the algorithm--take random draws\n",
      "    for i in xrange(Ntrials):\n",
      "        if i == Ntrials-1:\n",
      "            break\n",
      "            \n",
      "        proposal = betas[:,i] + sigma * np.random.normal(0, 1, np.shape(betas[:,i]))\n",
      "        alpha =  min([proposal_draw(obs_data, obs_outcomes, proposal, sig_prior) / \n",
      "                      proposal_draw(obs_data, obs_outcomes, betas[:,i], sig_prior)], 1.)\n",
      "        \n",
      "            \n",
      "        \n",
      "        # decide whether to reject or accept the proposal\n",
      "        if np.random.uniform() <= alpha:\n",
      "            betas[:,i+1] = proposal\n",
      "        else:\n",
      "            betas[:,i+1] = betas[:,i]\n",
      "            \n",
      "    return betas\n",
      "\n",
      "params = mcmc_params(10000)\n",
      "print params[:100, :]\n",
      "#plt.plot(np.arange(1000), params[:,0])"
     ],
     "language": "python",
     "metadata": {},
     "outputs": [
      {
       "output_type": "stream",
       "stream": "stdout",
       "text": [
        "[[  0.          -0.10052835  -0.1356665  ...,   8.04317302   8.14459262\n",
        "    8.08122469]\n",
        " [  0.          -0.08270683  -0.11693717 ...,  24.58674338  24.30947385\n",
        "   24.22870964]]\n"
       ]
      }
     ],
     "prompt_number": 162
    },
    {
     "cell_type": "code",
     "collapsed": false,
     "input": [
      "plt.plot(np.arange(10000), params[0,:])"
     ],
     "language": "python",
     "metadata": {},
     "outputs": [
      {
       "metadata": {},
       "output_type": "pyout",
       "prompt_number": 163,
       "text": [
        "[<matplotlib.lines.Line2D at 0x10ff9b9d0>]"
       ]
      },
      {
       "metadata": {},
       "output_type": "display_data",
       "png": "[encoded data removed]",
       "text": [
        "<matplotlib.figure.Figure at 0x10704b210>"
       ]
      }
     ],
     "prompt_number": 163
    },
    {
     "cell_type": "code",
     "collapsed": false,
     "input": [
      "logistic = lambda r: np.exp(r)/(1+np.exp(r))\n",
      "print logistic()"
     ],
     "language": "python",
     "metadata": {},
     "outputs": [
      {
       "output_type": "stream",
       "stream": "stdout",
       "text": [
        "0.26894142137\n"
       ]
      }
     ],
     "prompt_number": 43
    }
   ],
   "metadata": {}
  }
 ]
}