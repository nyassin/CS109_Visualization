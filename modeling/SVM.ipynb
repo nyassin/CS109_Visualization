{
 "metadata": {
  "name": ""
 },
 "nbformat": 3,
 "nbformat_minor": 0,
 "worksheets": [
  {
   "cells": [
    {
     "cell_type": "markdown",
     "metadata": {},
     "source": [
      "## Support Vector Machines (SVMs) methods\n",
      "\n",
      "An SVM creates hyper-planes in a high dimensional space which can be used for classification or regession. The simplest SVM is a binary classifier that does not directly provide probability estimates. We can also extend this method to regression problems in what is called Support Vector Regression (SVR). We will try both in this notebook.\n",
      "\n",
      "Note: we did not pursue much analysis in this notebook, because it did not seem like a worthwhile avenue. Please see the RandomForest and other regression notebooks for more exploration."
     ]
    },
    {
     "cell_type": "code",
     "collapsed": false,
     "input": [
      "%matplotlib inline\n",
      "from collections import defaultdict\n",
      "import numpy as np\n",
      "import matplotlib.pyplot as plt\n",
      "import pandas as pd\n",
      "import random"
     ],
     "language": "python",
     "metadata": {},
     "outputs": [],
     "prompt_number": 1
    },
    {
     "cell_type": "code",
     "collapsed": false,
     "input": [
      "def remove_border(axes=None, top=False, right=False, left=True, bottom=True):\n",
      "    \"\"\"\n",
      "    Minimize chartjunk by stripping out unnecesary plot borders and axis ticks\n",
      "    \n",
      "    The top/right/left/bottom keywords toggle whether the corresponding plot border is drawn\n",
      "    \"\"\"\n",
      "    ax = axes or plt.gca()\n",
      "    ax.spines['top'].set_visible(top)\n",
      "    ax.spines['right'].set_visible(right)\n",
      "    ax.spines['left'].set_visible(left)\n",
      "    ax.spines['bottom'].set_visible(bottom)\n",
      "    \n",
      "    #turn off all ticks\n",
      "    ax.yaxis.set_ticks_position('none')\n",
      "    ax.xaxis.set_ticks_position('none')\n",
      "    \n",
      "    #now re-enable visibles\n",
      "    if top:\n",
      "        ax.xaxis.tick_top()\n",
      "    if bottom:\n",
      "        ax.xaxis.tick_bottom()\n",
      "    if left:\n",
      "        ax.yaxis.tick_left()\n",
      "    if right:\n",
      "        ax.yaxis.tick_right()"
     ],
     "language": "python",
     "metadata": {},
     "outputs": [],
     "prompt_number": 2
    },
    {
     "cell_type": "markdown",
     "metadata": {},
     "source": [
      "## Load data\n",
      "The setup here is much the same as in the RandomForests notebook."
     ]
    },
    {
     "cell_type": "code",
     "collapsed": false,
     "input": [
      "# We run on the smaller dataset first\n",
      "#df = pd.read_csv('maindata/fulldf.csv')\n",
      "df = pd.read_csv('maindata/smalldf.csv')"
     ],
     "language": "python",
     "metadata": {},
     "outputs": [],
     "prompt_number": 3
    },
    {
     "cell_type": "markdown",
     "metadata": {},
     "source": [
      "15mins is the FAA definition of a delayed flight. We will classify flights that have NaN Delay_Minutes values (i.e., flights that are cancelled) as delayed. We will count these among the flights we are trying to predict as being caused by weather."
     ]
    },
    {
     "cell_type": "code",
     "collapsed": false,
     "input": [
      "DELAY_THRESHOLD = 15.\n",
      "\n",
      "df.Delay_Minutes.fillna(2000, inplace=True)\n",
      "df.NAS_Delay.fillna(2000, inplace=True)\n",
      "df.Weather_Delay.fillna(2000, inplace=True)\n",
      "df['Delayed'] = (((df['NAS_Delay'] > 0) | (df['Weather_Delay'] > 0)) & (df['Delay_Minutes'] > DELAY_THRESHOLD))*1\n",
      "print \"%d delayed flights due to Weather or NAS Delay out of %d total flights\" % (sum(df['Delayed']), len(df))"
     ],
     "language": "python",
     "metadata": {},
     "outputs": [
      {
       "output_type": "stream",
       "stream": "stdout",
       "text": [
        "3320 delayed flights due to Weather or NAS Delay out of 32420 total flights\n"
       ]
      }
     ],
     "prompt_number": 4
    },
    {
     "cell_type": "code",
     "collapsed": false,
     "input": [
      "# center some of the continuous variable columns\n",
      "to_center = ['Temp', 'Dewpoint', 'Precip', 'Pressure', 'Visibility', 'Windspeed']\n",
      "for col in to_center:\n",
      "    df[col] = (df[col] - df[col].mean())"
     ],
     "language": "python",
     "metadata": {},
     "outputs": [],
     "prompt_number": 5
    },
    {
     "cell_type": "code",
     "collapsed": false,
     "input": [
      "# creates dummy variables for categorical features\n",
      "def dumbify_col(df, col):\n",
      "    dummy_cols = pd.get_dummies(df[col], prefix='dum_'+col)\n",
      "    cols = df.columns\n",
      "    data = df[cols].join(dummy_cols.ix[:,:])\n",
      "    return data"
     ],
     "language": "python",
     "metadata": {},
     "outputs": [],
     "prompt_number": 6
    },
    {
     "cell_type": "code",
     "collapsed": false,
     "input": [
      "data = dumbify_col(df, 'Origin')\n",
      "data = dumbify_col(data, 'Day_of_week')\n",
      "data = dumbify_col(data, 'Carrier')"
     ],
     "language": "python",
     "metadata": {},
     "outputs": [],
     "prompt_number": 7
    },
    {
     "cell_type": "code",
     "collapsed": false,
     "input": [
      "data.columns"
     ],
     "language": "python",
     "metadata": {},
     "outputs": [
      {
       "metadata": {},
       "output_type": "pyout",
       "prompt_number": 8,
       "text": [
        "Index([Airtime, Carrier, Carrier_Delay, Day_of_week, Delay_Minutes, Dest, Distance, Date, Flight_Num, Late_Aircraft_Delay, NAS_Delay, Origin, Security_Delay, Tailnum, Weather_Delay, Temp, Dewpoint, Fog, Hail, Precip, Rain, Pressure, Snow, Thunder, Tornado, Visibility, Windspeed, Dep_hour, Delayed, dum_Origin_ATL, dum_Origin_BOS, dum_Origin_CLT, dum_Origin_DEN, dum_Origin_DFW, dum_Origin_DTW, dum_Origin_EWR, dum_Origin_IAH, dum_Origin_JFK, dum_Origin_LAS, dum_Origin_LAX, dum_Origin_LGA, dum_Origin_MCO, dum_Origin_MIA, dum_Origin_MSP, dum_Origin_ORD, dum_Origin_PHL, dum_Origin_PHX, dum_Origin_SEA, dum_Origin_SFO, dum_Day_of_week_1, dum_Day_of_week_2, dum_Day_of_week_3, dum_Day_of_week_4, dum_Day_of_week_5, dum_Day_of_week_6, dum_Day_of_week_7, dum_Carrier_AA, dum_Carrier_AS, dum_Carrier_B6, dum_Carrier_DL, dum_Carrier_EV, dum_Carrier_F9, dum_Carrier_FL, dum_Carrier_HA, dum_Carrier_MQ, dum_Carrier_OO, dum_Carrier_UA, dum_Carrier_US, dum_Carrier_VX, dum_Carrier_WN, dum_Carrier_YV], dtype=object)"
       ]
      }
     ],
     "prompt_number": 8
    },
    {
     "cell_type": "code",
     "collapsed": false,
     "input": [
      "training_cols = ['Airtime',\n",
      "                 #'Carrier',\n",
      "                 #'Carrier_Delay',\n",
      "                 #'Day_of_week',\n",
      "                 #'Delay_Minutes',\n",
      "                 #'Dest',\n",
      "                 'Distance',\n",
      "                 #'Date',\n",
      "                 #'Flight_Num',\n",
      "                 #'Late_Aircraft_Delay',\n",
      "                 #'NAS_Delay',\n",
      "                 #'Origin',\n",
      "                 #'Security_Delay',\n",
      "                 #'Tailnum',\n",
      "                 #'Weather_Delay',\n",
      "                 'Temp',\n",
      "                 'Dewpoint',\n",
      "                 'Fog',\n",
      "                 'Hail',\n",
      "                 'Precip',\n",
      "                 'Rain',\n",
      "                 'Pressure',\n",
      "                 'Snow',\n",
      "                 'Thunder',\n",
      "                 'Tornado',\n",
      "                 'Visibility',\n",
      "                 'Windspeed',\n",
      "                 'Dep_hour',\n",
      "                 #'Delayed',\n",
      "                 'dum_Origin_ATL',\n",
      "                 'dum_Origin_BOS',\n",
      "                 'dum_Origin_CLT',\n",
      "                 'dum_Origin_DEN',\n",
      "                 'dum_Origin_DFW',\n",
      "                 'dum_Origin_DTW',\n",
      "                 'dum_Origin_EWR',\n",
      "                 'dum_Origin_IAH',\n",
      "                 'dum_Origin_JFK',\n",
      "                 'dum_Origin_LAS',\n",
      "                 'dum_Origin_LAX',\n",
      "                 'dum_Origin_LGA',\n",
      "                 'dum_Origin_MCO',\n",
      "                 'dum_Origin_MIA',\n",
      "                 'dum_Origin_MSP',\n",
      "                 'dum_Origin_ORD',\n",
      "                 'dum_Origin_PHL',\n",
      "                 'dum_Origin_PHX',\n",
      "                 'dum_Origin_SEA',\n",
      "                 'dum_Origin_SFO',\n",
      "                 'dum_Day_of_week_1',\n",
      "                 'dum_Day_of_week_2',\n",
      "                 'dum_Day_of_week_3',\n",
      "                 'dum_Day_of_week_4',\n",
      "                 'dum_Day_of_week_5',\n",
      "                 'dum_Day_of_week_6',\n",
      "                 'dum_Day_of_week_7',\n",
      "                 'dum_Carrier_AA',\n",
      "                 'dum_Carrier_AS',\n",
      "                 'dum_Carrier_B6',\n",
      "                 'dum_Carrier_DL',\n",
      "                 'dum_Carrier_EV',\n",
      "                 'dum_Carrier_F9',\n",
      "                 'dum_Carrier_FL',\n",
      "                 'dum_Carrier_HA',\n",
      "                 'dum_Carrier_MQ',\n",
      "                 'dum_Carrier_OO',\n",
      "                 'dum_Carrier_UA',\n",
      "                 'dum_Carrier_US',\n",
      "                 'dum_Carrier_VX',\n",
      "                 'dum_Carrier_WN',\n",
      "                 'dum_Carrier_YV']"
     ],
     "language": "python",
     "metadata": {},
     "outputs": [],
     "prompt_number": 9
    },
    {
     "cell_type": "code",
     "collapsed": false,
     "input": [
      "# remove rows with NaNs in training cols. this is only a small percentage of rows\n",
      "for col in training_cols:\n",
      "    data = data[np.logical_not(np.isnan(data[col]))]"
     ],
     "language": "python",
     "metadata": {},
     "outputs": [],
     "prompt_number": 10
    },
    {
     "cell_type": "markdown",
     "metadata": {},
     "source": [
      "## Try SVM\n",
      "\n",
      "After training, this will give us a prediction vector of 0's and 1's for the test data, where 1's are delayed flights (more than 15min). We will then compare this to the actual outcomes."
     ]
    },
    {
     "cell_type": "code",
     "collapsed": false,
     "input": [
      "\"\"\"\n",
      "Helper function that prints some important numbers for the predictions\n",
      "such as Recall and Precision in a readible way\n",
      "\"\"\"\n",
      "def pretty_print_results(preds, ytest):\n",
      "    correct_delayed = 0\n",
      "    correct_non_delayed = 0\n",
      "    failed_delayed = 0\n",
      "    failed_non_delayed = 0\n",
      "    \n",
      "    for i in range(len(preds)):\n",
      "        if ytest[i]:\n",
      "            if preds[i] == ytest[i]:\n",
      "                correct_delayed +=1\n",
      "            else:\n",
      "                failed_delayed += 1\n",
      "        else:\n",
      "            if preds[i] == ytest[i]:\n",
      "                correct_non_delayed += 1\n",
      "            else:\n",
      "                failed_non_delayed += 1\n",
      "                \n",
      "    recall = float(correct_delayed)/sum(ytest)\n",
      "    precision = float(correct_delayed)/sum(preds)\n",
      "    print \"Recall: {0:.4f}\".format(recall)\n",
      "    print \"Precision: {0:.4f}\".format(precision)\n",
      "    print \"{0} out of {1} predicted delays were correct\".format(correct_delayed, sum(preds))\n",
      "    print \"{0} were delayed and not identified\".format(failed_delayed)\n",
      "    print \"in total, there were {0} delays out of {1} flights\".format(sum(ytest),len(ytest))\n"
     ],
     "language": "python",
     "metadata": {},
     "outputs": [],
     "prompt_number": 11
    },
    {
     "cell_type": "code",
     "collapsed": false,
     "input": [
      "from sklearn.cross_validation import train_test_split\n",
      "\n",
      "# split into training and test\n",
      "X = data[training_cols]\n",
      "Y = data.Delayed\n",
      "xtrain, xtest, ytrain, ytest = train_test_split(X, Y, test_size=0.33)"
     ],
     "language": "python",
     "metadata": {},
     "outputs": [],
     "prompt_number": 12
    },
    {
     "cell_type": "code",
     "collapsed": false,
     "input": [
      "from sklearn import svm\n",
      "\n",
      "clf = svm.SVC()\n",
      "fit = clf.fit(xtrain, ytrain)\n",
      "pred = fit.predict(xtest)"
     ],
     "language": "python",
     "metadata": {},
     "outputs": [],
     "prompt_number": 13
    },
    {
     "cell_type": "code",
     "collapsed": false,
     "input": [
      "# how did we do?\n",
      "pretty_print_results(pred, ytest)"
     ],
     "language": "python",
     "metadata": {},
     "outputs": [
      {
       "output_type": "stream",
       "stream": "stdout",
       "text": [
        "Recall: 0.0044\n",
        "Precision: 0.5000\n",
        "4 out of 8 predicted delays were correct\n",
        "907 were delayed and not identified\n",
        "in total, there were 911 delays out of 10001 flights\n"
       ]
      }
     ],
     "prompt_number": 14
    },
    {
     "cell_type": "code",
     "collapsed": false,
     "input": [
      "print clf.score(xtrain,ytrain)\n",
      "print clf.score(xtest,ytest)"
     ],
     "language": "python",
     "metadata": {},
     "outputs": [
      {
       "output_type": "stream",
       "stream": "stdout",
       "text": [
        "0.930798404177\n",
        "0.908909109089"
       ]
      },
      {
       "output_type": "stream",
       "stream": "stdout",
       "text": [
        "\n"
       ]
      }
     ],
     "prompt_number": 15
    },
    {
     "cell_type": "markdown",
     "metadata": {},
     "source": [
      "Recall is terrible here. A higher score on training data vs. test data indicates overfitting. Let's see if removing some columns helps. We will eliminate the dummy columns because they were shown to be fairly unimportant in the RandomForest notebook. "
     ]
    },
    {
     "cell_type": "code",
     "collapsed": false,
     "input": [
      "training_cols = ['Airtime',\n",
      "                 #'Carrier',\n",
      "                 #'Carrier_Delay',\n",
      "                 #'Day_of_week',\n",
      "                 #'Delay_Minutes',\n",
      "                 #'Dest',\n",
      "                 'Distance',\n",
      "                 #'Date',\n",
      "                 #'Flight_Num',\n",
      "                 #'Late_Aircraft_Delay',\n",
      "                 #'NAS_Delay',\n",
      "                 #'Origin',\n",
      "                 #'Security_Delay',\n",
      "                 #'Tailnum',\n",
      "                 #'Weather_Delay',\n",
      "                 'Temp',\n",
      "                 'Dewpoint',\n",
      "                 'Fog',\n",
      "                 'Hail',\n",
      "                 'Precip',\n",
      "                 'Rain',\n",
      "                 'Pressure',\n",
      "                 'Snow',\n",
      "                 'Thunder',\n",
      "                 'Tornado',\n",
      "                 'Visibility',\n",
      "                 'Windspeed',\n",
      "                 'Dep_hour']"
     ],
     "language": "python",
     "metadata": {},
     "outputs": [],
     "prompt_number": 16
    },
    {
     "cell_type": "code",
     "collapsed": false,
     "input": [
      "X = data[training_cols]\n",
      "Y = data.Delayed\n",
      "xtrain, xtest, ytrain, ytest = train_test_split(X, Y, test_size=0.33)\n",
      "\n",
      "clf = svm.SVC()\n",
      "fit = clf.fit(xtrain, ytrain)\n",
      "pred = fit.predict(xtest)\n",
      "\n",
      "pretty_print_results(pred, ytest)"
     ],
     "language": "python",
     "metadata": {},
     "outputs": [
      {
       "output_type": "stream",
       "stream": "stdout",
       "text": [
        "Recall: 0.0043\n",
        "Precision: 0.5714\n",
        "4 out of 7 predicted delays were correct\n",
        "924 were delayed and not identified\n",
        "in total, there were 928 delays out of 10001 flights\n"
       ]
      }
     ],
     "prompt_number": 17
    },
    {
     "cell_type": "code",
     "collapsed": false,
     "input": [
      "print clf.score(xtrain,ytrain)\n",
      "print clf.score(xtest,ytest)"
     ],
     "language": "python",
     "metadata": {},
     "outputs": [
      {
       "output_type": "stream",
       "stream": "stdout",
       "text": [
        "0.976801457913\n",
        "0.907309269073"
       ]
      },
      {
       "output_type": "stream",
       "stream": "stdout",
       "text": [
        "\n"
       ]
      }
     ],
     "prompt_number": 18
    },
    {
     "cell_type": "markdown",
     "metadata": {},
     "source": [
      "Precision improves slightly, but recall is still terrible. Scores are comparable. We will next try using regression to predict probabilities. Perhaps the probability of each flight being delayed is very low using this model, which is why we are getting so few total predictions."
     ]
    },
    {
     "cell_type": "markdown",
     "metadata": {},
     "source": [
      "## Try SVR\n"
     ]
    },
    {
     "cell_type": "code",
     "collapsed": false,
     "input": [
      "clf = svm.SVR()\n",
      "fit = clf.fit(xtrain, ytrain)\n",
      "pred = fit.predict(xtest)"
     ],
     "language": "python",
     "metadata": {},
     "outputs": [],
     "prompt_number": 19
    },
    {
     "cell_type": "code",
     "collapsed": false,
     "input": [
      "plt.hist(pred, bins=50)\n",
      "plt.title('Hist of predicted probabilities of delay')\n",
      "plt.ylabel('N')\n",
      "plt.xlabel('probs')\n",
      "remove_border()\n",
      "print \"mean pred. is \", np.mean(pred)\n",
      "print \"max pred. is \", max(pred)\n",
      "print \"99th percentile is \", np.percentile(pred, 99)"
     ],
     "language": "python",
     "metadata": {},
     "outputs": [
      {
       "output_type": "stream",
       "stream": "stdout",
       "text": [
        "mean pred. is  0.168878941113\n",
        "max pred. is  0.900054466269\n",
        "99th percentile is  0.473905990214\n"
       ]
      },
      {
       "metadata": {},
       "output_type": "display_data",
       "png": "[encoded data removed]",
       "text": [
        "<matplotlib.figure.Figure at 0x10f435090>"
       ]
      }
     ],
     "prompt_number": 20
    },
    {
     "cell_type": "markdown",
     "metadata": {},
     "source": [
      "As we can see, most of the probabilities are below 0.2 and 99% of the probabilites are below 0.47. This is why there were so few predicted delays. We decided to abandon further use of SVMs in favor of logistic regression, random forests, and multilevel regression. "
     ]
    }
   ],
   "metadata": {}
  }
 ]
}